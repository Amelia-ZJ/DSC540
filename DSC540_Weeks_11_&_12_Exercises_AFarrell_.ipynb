{
  "cells": [
    {
      "cell_type": "markdown",
      "metadata": {
        "id": "E15hGiPH48QY"
      },
      "source": [
        "## Weeks 11 & 12 Exercises\n",
        "\n",
        "## Receiving Data From Databases\n",
        "\n",
        "Amelia Farrell\n",
        "\n",
        "DSC540\n",
        "\n",
        "5/24/23\n"
      ]
    },
    {
      "cell_type": "code",
      "source": [
        "# Connecting to google drive\n",
        "from google.colab import drive \n",
        "drive.mount('/content/drive')\n",
        "\n",
        "# Change to the google drive directory\n",
        "%cd /content/drive/MyDrive/Colab\\ Notebooks/DSC540"
      ],
      "metadata": {
        "colab": {
          "base_uri": "https://localhost:8080/"
        },
        "id": "qAKKTgJh-8Bo",
        "outputId": "8eaf5773-bb65-4815-d53c-57cc397448e1"
      },
      "execution_count": null,
      "outputs": [
        {
          "output_type": "stream",
          "name": "stdout",
          "text": [
            "Mounted at /content/drive\n",
            "/content/drive/MyDrive/Colab Notebooks/DSC540\n"
          ]
        }
      ]
    },
    {
      "cell_type": "markdown",
      "metadata": {
        "id": "z6HclmAH48Qp"
      },
      "source": [
        "## 1. Data Wrangling with Python: Activity 11, page 320\n",
        "\n",
        "Receiving Data From the Pet Database"
      ]
    },
    {
      "cell_type": "code",
      "execution_count": null,
      "metadata": {
        "id": "uMdU5Ev348Qr"
      },
      "outputs": [],
      "source": [
        "# importing libraries needed\n",
        "import sqlite3"
      ]
    },
    {
      "cell_type": "code",
      "source": [
        "# connecting to the supplied petsDB database\n",
        "conn = sqlite3.connect(\"petsdb\")"
      ],
      "metadata": {
        "id": "HC7VTiMapiss"
      },
      "execution_count": null,
      "outputs": []
    },
    {
      "cell_type": "code",
      "source": [
        "# creating a function to check if the connection is complete\n",
        "def is_opened(conn):\n",
        "    try:\n",
        "        conn.execute(\"SELECT * FROM persons LIMIT 1\")\n",
        "        return True\n",
        "    except sqlite3.ProgrammingError as e:\n",
        "        print(\"Connection closed {}\".format(e))\n",
        "        return False\n",
        "\n",
        "# running our function above\n",
        "print(is_opened(conn))"
      ],
      "metadata": {
        "colab": {
          "base_uri": "https://localhost:8080/"
        },
        "id": "5Jef8N87YMIr",
        "outputId": "1f3fee1e-ce07-4a5e-dfc4-7dee79911934"
      },
      "execution_count": null,
      "outputs": [
        {
          "output_type": "stream",
          "name": "stdout",
          "text": [
            "True\n"
          ]
        }
      ]
    },
    {
      "cell_type": "code",
      "source": [
        "# useing a for loop to find the different age groups in the persons database\n",
        "c = conn.cursor()\n",
        "for ppl, age in c.execute(\"SELECT count(*), age FROM persons GROUP BY age\"):\n",
        "    print(\"There are {} people aged {}\".format(ppl, age))"
      ],
      "metadata": {
        "id": "P4IhPtn_pmsH",
        "colab": {
          "base_uri": "https://localhost:8080/"
        },
        "outputId": "b25269c0-3df4-4850-bcb3-462a121d40e8"
      },
      "execution_count": null,
      "outputs": [
        {
          "output_type": "stream",
          "name": "stdout",
          "text": [
            "There are 2 people aged 5\n",
            "There are 1 people aged 6\n",
            "There are 1 people aged 7\n",
            "There are 3 people aged 8\n",
            "There are 1 people aged 9\n",
            "There are 2 people aged 11\n",
            "There are 3 people aged 12\n",
            "There are 1 people aged 13\n",
            "There are 4 people aged 14\n",
            "There are 2 people aged 16\n",
            "There are 2 people aged 17\n",
            "There are 3 people aged 18\n",
            "There are 1 people aged 19\n",
            "There are 3 people aged 22\n",
            "There are 2 people aged 23\n",
            "There are 3 people aged 24\n",
            "There are 2 people aged 25\n",
            "There are 1 people aged 27\n",
            "There are 1 people aged 30\n",
            "There are 3 people aged 31\n",
            "There are 1 people aged 32\n",
            "There are 1 people aged 33\n",
            "There are 2 people aged 34\n",
            "There are 3 people aged 35\n",
            "There are 3 people aged 36\n",
            "There are 1 people aged 37\n",
            "There are 2 people aged 39\n",
            "There are 1 people aged 40\n",
            "There are 1 people aged 42\n",
            "There are 2 people aged 44\n",
            "There are 2 people aged 48\n",
            "There are 1 people aged 49\n",
            "There are 1 people aged 50\n",
            "There are 2 people aged 51\n",
            "There are 2 people aged 52\n",
            "There are 2 people aged 53\n",
            "There are 2 people aged 54\n",
            "There are 1 people aged 58\n",
            "There are 1 people aged 59\n",
            "There are 1 people aged 60\n",
            "There are 1 people aged 61\n",
            "There are 2 people aged 62\n",
            "There are 1 people aged 63\n",
            "There are 2 people aged 65\n",
            "There are 2 people aged 66\n",
            "There are 1 people aged 67\n",
            "There are 3 people aged 68\n",
            "There are 1 people aged 69\n",
            "There are 1 people aged 70\n",
            "There are 4 people aged 71\n",
            "There are 1 people aged 72\n",
            "There are 5 people aged 73\n",
            "There are 3 people aged 74\n"
          ]
        }
      ]
    },
    {
      "cell_type": "code",
      "source": [
        "# useing a for loop to find what age group has maximum number of people\n",
        "for ppl, age in c.execute(\"SELECT count(*), age FROM persons GROUP BY age ORDER BY count(*) DESC\"):\n",
        "    print(\"There are {} people in the {} age group, making this the age group with the most people.\".format(ppl, age))\n",
        "    break"
      ],
      "metadata": {
        "id": "ErrRQokWpsRO",
        "colab": {
          "base_uri": "https://localhost:8080/"
        },
        "outputId": "ac7f7f37-0bbc-4be2-90b6-49fd6af44d0f"
      },
      "execution_count": null,
      "outputs": [
        {
          "output_type": "stream",
          "name": "stdout",
          "text": [
            "There are 5 people in the 73 age group, making this the age group with the most people.\n"
          ]
        }
      ]
    },
    {
      "cell_type": "code",
      "source": [
        "# finding out how many last names are missing\n",
        "res = c.execute(\"SELECT count(*) FROM persons WHERE last_name IS null\")\n",
        "for row in res:\n",
        "    print(row)"
      ],
      "metadata": {
        "id": "uteqisIsqyqD",
        "colab": {
          "base_uri": "https://localhost:8080/"
        },
        "outputId": "4cac8b1f-00ca-455a-ac9f-ef525d5da788"
      },
      "execution_count": null,
      "outputs": [
        {
          "output_type": "stream",
          "name": "stdout",
          "text": [
            "(60,)\n"
          ]
        }
      ]
    },
    {
      "cell_type": "code",
      "source": [
        "# checking how many people in the database have more than one pet\n",
        "res = c.execute(\"SELECT count(*) FROM (SELECT count(owner_id) FROM pets GROUP BY owner_id HAVING count(owner_id) >1)\")\n",
        "for row in res:\n",
        "    print(\"{} people have more than one pet\".format(row[0]))"
      ],
      "metadata": {
        "id": "CuTiV5wLrJhU",
        "colab": {
          "base_uri": "https://localhost:8080/"
        },
        "outputId": "c38c1d41-9c83-4ca4-bf83-616bfc2ed7f7"
      },
      "execution_count": null,
      "outputs": [
        {
          "output_type": "stream",
          "name": "stdout",
          "text": [
            "43 people have more than one pet\n"
          ]
        }
      ]
    },
    {
      "cell_type": "code",
      "source": [
        "# how many pets have received treaments?\n",
        "res = c.execute(\"SELECT count(*) FROM pets WHERE treatment_done=1\")\n",
        "for row in res:\n",
        "    print(row)"
      ],
      "metadata": {
        "id": "vv6nNvCwpxfy",
        "colab": {
          "base_uri": "https://localhost:8080/"
        },
        "outputId": "86f9f8ee-9769-4b8a-a47b-f03423ff2f81"
      },
      "execution_count": null,
      "outputs": [
        {
          "output_type": "stream",
          "name": "stdout",
          "text": [
            "(36,)\n"
          ]
        }
      ]
    },
    {
      "cell_type": "code",
      "source": [
        "# how many pets have received treatment where the type of treatment was mentioned?\n",
        "res = c.execute(\"SELECT count(*) FROM pets WHERE treatment_done=1 AND pet_type IS NOT null\")\n",
        "for row in res:\n",
        "    print(row)"
      ],
      "metadata": {
        "colab": {
          "base_uri": "https://localhost:8080/"
        },
        "id": "JsoGQjWPETcI",
        "outputId": "3d2b90be-c0e7-4cec-d97d-129b07309aa2"
      },
      "execution_count": null,
      "outputs": [
        {
          "output_type": "stream",
          "name": "stdout",
          "text": [
            "(16,)\n"
          ]
        }
      ]
    },
    {
      "cell_type": "code",
      "source": [
        "# how many pets are from East Port?\n",
        "res = c.execute(\"SELECT count(*) FROM pets JOIN persons ON pets.owner_id = persons.id WHERE persons.city='east port'\")\n",
        "for row in res:\n",
        "    print(row)"
      ],
      "metadata": {
        "colab": {
          "base_uri": "https://localhost:8080/"
        },
        "id": "i0OPAewrET4l",
        "outputId": "b62f8050-606c-40ab-c63c-c90723f97767"
      },
      "execution_count": null,
      "outputs": [
        {
          "output_type": "stream",
          "name": "stdout",
          "text": [
            "(49,)\n"
          ]
        }
      ]
    },
    {
      "cell_type": "code",
      "source": [
        "# how many pets from East Port also received a treatment?\n",
        "res = c.execute(\"SELECT count(*) FROM pets JOIN persons ON pets.owner_id = persons.id WHERE persons.city='east port' AND pets.treatment_done=1\")\n",
        "for row in res:\n",
        "    print(row)"
      ],
      "metadata": {
        "colab": {
          "base_uri": "https://localhost:8080/"
        },
        "id": "yUJPw6n1EUJI",
        "outputId": "3c648a65-b631-4559-bfe2-e3c0fd73114b"
      },
      "execution_count": null,
      "outputs": [
        {
          "output_type": "stream",
          "name": "stdout",
          "text": [
            "(11,)\n"
          ]
        }
      ]
    }
  ],
  "metadata": {
    "kernelspec": {
      "display_name": "Python 3",
      "language": "python",
      "name": "python3"
    },
    "language_info": {
      "codemirror_mode": {
        "name": "ipython",
        "version": 3
      },
      "file_extension": ".py",
      "mimetype": "text/x-python",
      "name": "python",
      "nbconvert_exporter": "python",
      "pygments_lexer": "ipython3",
      "version": "3.7.6"
    },
    "colab": {
      "provenance": []
    }
  },
  "nbformat": 4,
  "nbformat_minor": 0
}