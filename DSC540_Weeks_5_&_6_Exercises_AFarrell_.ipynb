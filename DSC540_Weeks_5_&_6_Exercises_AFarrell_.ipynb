{
  "cells": [
    {
      "cell_type": "markdown",
      "metadata": {
        "id": "E15hGiPH48QY"
      },
      "source": [
        "# Weeks 5 & 6 Exercises\n",
        "\n",
        "## Understanding Packages\n",
        "\n",
        "Amelia Farrell\n",
        "\n",
        "DSC540\n",
        "\n",
        "4/14/23"
      ]
    },
    {
      "cell_type": "code",
      "source": [
        "\n",
        "# Connecting to google drive\n",
        "from google.colab import drive\n",
        "drive.mount('/content/drive')\n",
        "\n",
        "# Change to the google drive directory\n",
        "%cd /content/drive/MyDrive/Colab\\ Notebooks/DSC540"
      ],
      "metadata": {
        "colab": {
          "base_uri": "https://localhost:8080/"
        },
        "id": "qAKKTgJh-8Bo",
        "outputId": "8d69389c-2c1c-43a9-bdd9-3ec5fe8470e6"
      },
      "execution_count": 1,
      "outputs": [
        {
          "output_type": "stream",
          "name": "stdout",
          "text": [
            "Mounted at /content/drive\n",
            "/content/drive/MyDrive/Colab Notebooks/DSC540\n"
          ]
        }
      ]
    },
    {
      "cell_type": "markdown",
      "metadata": {
        "id": "z6HclmAH48Qp"
      },
      "source": [
        "## Data Wrangling with Python: Activity 7, page 207\n",
        "\n",
        "Reading Tabular Data from a Web Page and Creating DataFrames"
      ]
    },
    {
      "cell_type": "code",
      "execution_count": 2,
      "metadata": {
        "id": "uMdU5Ev348Qr"
      },
      "outputs": [],
      "source": [
        "# importing libraries needed\n",
        "from bs4 import BeautifulSoup\n",
        "import requests\n",
        "import pandas as pd"
      ]
    },
    {
      "cell_type": "code",
      "source": [
        "# fter saving the wikipedia HTML data, we can read the file using BeautifulSoup\n",
        "fd = open(\"List of countries by GDP (nominal) - Wikipedia.html\", \"r\")\n",
        "soup = BeautifulSoup(fd)\n",
        "fd.close()\n",
        "\n",
        "# reading the page Wikipedia page tusing bs4\n",
        "#URL = \"https://en.wikipedia.org/wiki/List_of_countries_by_GDP_(nominal)\"\n",
        "##r = requests.get(URL) \n",
        "#soup = BeautifulSoup(r.content, 'html5lib')\n",
        "#print(soup.prettify())"
      ],
      "metadata": {
        "id": "o65X4ClYVupI"
      },
      "execution_count": 3,
      "outputs": []
    },
    {
      "cell_type": "code",
      "source": [
        "# cacluation the number of tables\n",
        "all_tables = soup.find_all(\"table\")\n",
        "print(\"Total number of tables: {} \".format(len(all_tables)))"
      ],
      "metadata": {
        "colab": {
          "base_uri": "https://localhost:8080/"
        },
        "id": "RY06zkkBYgtO",
        "outputId": "51a59d4e-7d48-4b10-b4a3-6fcc1024e724"
      },
      "execution_count": 5,
      "outputs": [
        {
          "output_type": "stream",
          "name": "stdout",
          "text": [
            "Total number of tables: 9 \n"
          ]
        }
      ]
    },
    {
      "cell_type": "code",
      "source": [
        "# idenifying the right table\n",
        "data_table = soup.find(\"table\", {\"class\": '\"wikitable\"|}'})\n",
        "print(type(data_table))"
      ],
      "metadata": {
        "colab": {
          "base_uri": "https://localhost:8080/"
        },
        "id": "wb1ONU8SYza5",
        "outputId": "85164ad6-bcfc-4582-98f4-e478d5090fa3"
      },
      "execution_count": 6,
      "outputs": [
        {
          "output_type": "stream",
          "name": "stdout",
          "text": [
            "<class 'bs4.element.Tag'>\n"
          ]
        }
      ]
    },
    {
      "cell_type": "code",
      "source": [
        "gdp = soup.find(\"table\",attrs={\"class\":\"wikitable\"})\n",
        "data = gdp.tbody.find_all(\"tr\")\n",
        "data"
      ],
      "metadata": {
        "id": "4zJYlCh84-sL"
      },
      "execution_count": null,
      "outputs": []
    },
    {
      "cell_type": "code",
      "source": [
        "# separatating the source and the actual data from the table\n",
        "sources = data_table.tbody.findAll('tr', recursive=False)[0]\n",
        "sources_list = [td for td in sources.findAll('td')]\n",
        "print(len(sources_list))"
      ],
      "metadata": {
        "colab": {
          "base_uri": "https://localhost:8080/"
        },
        "id": "-ME6FkwXZARX",
        "outputId": "059c07a0-01df-45fb-b9cb-a9c9eadc4b16"
      },
      "execution_count": null,
      "outputs": [
        {
          "output_type": "stream",
          "name": "stdout",
          "text": [
            "3\n"
          ]
        }
      ]
    },
    {
      "cell_type": "code",
      "source": [
        "data = data_table.tbody.findAll('tr', recursive=False)[1].findAll('td', recursive=False)\n",
        "\n",
        "data_tables = []\n",
        "for td in data:\n",
        "    data_tables.append(td.findAll('table'))\n",
        "\n",
        "len(data_tables)"
      ],
      "metadata": {
        "colab": {
          "base_uri": "https://localhost:8080/"
        },
        "id": "URiWBVjcNUkn",
        "outputId": "d293dac3-0997-4d20-9457-bbdcf25b42e7"
      },
      "execution_count": null,
      "outputs": [
        {
          "output_type": "execute_result",
          "data": {
            "text/plain": [
              "3"
            ]
          },
          "metadata": {},
          "execution_count": 50
        }
      ]
    },
    {
      "cell_type": "code",
      "source": [
        "# seperating the header names from the data (for the first FRIST only)\n",
        "header1 = [th.getText().strip() for th in data_tables[0][0].findAll('thead')[0].findAll('th')]\n",
        "header1 # idenifying the headers"
      ],
      "metadata": {
        "colab": {
          "base_uri": "https://localhost:8080/"
        },
        "id": "HzzbL_9sOHsj",
        "outputId": "9085750b-cd85-4a12-f2a8-4b66b2413c92"
      },
      "execution_count": null,
      "outputs": [
        {
          "output_type": "execute_result",
          "data": {
            "text/plain": [
              "['Rank', 'Country', 'GDP(US$MM)']"
            ]
          },
          "metadata": {},
          "execution_count": 51
        }
      ]
    },
    {
      "cell_type": "code",
      "source": [
        "rows1 = data_tables[0][0].findAll('tbody')[0].findAll('tr')[1:] # idenifying the rows\n",
        "data_rows1 = [[td.get_text().strip() for td in tr.findAll('td')] for tr in rows1] # data for rows\n",
        "df1 = pd.DataFrame(data_rows1, columns=header1) # creating the dataframe\n",
        "df1.head() # showing the new dataframe with headers and first rows"
      ],
      "metadata": {
        "colab": {
          "base_uri": "https://localhost:8080/",
          "height": 206
        },
        "id": "NYsO7xU2O012",
        "outputId": "dd688eff-20b5-42b3-fd68-74913f6f4f85"
      },
      "execution_count": null,
      "outputs": [
        {
          "output_type": "execute_result",
          "data": {
            "text/plain": [
              "  Rank         Country  GDP(US$MM)\n",
              "0    1   United States  19,390,600\n",
              "1    2      China[n 1]  12,014,610\n",
              "2    3           Japan   4,872,135\n",
              "3    4         Germany   3,684,816\n",
              "4    5  United Kingdom   2,624,529"
            ],
            "text/html": [
              "\n",
              "  <div id=\"df-a3eb3aec-53c9-4157-ab04-f58de678ebf8\">\n",
              "    <div class=\"colab-df-container\">\n",
              "      <div>\n",
              "<style scoped>\n",
              "    .dataframe tbody tr th:only-of-type {\n",
              "        vertical-align: middle;\n",
              "    }\n",
              "\n",
              "    .dataframe tbody tr th {\n",
              "        vertical-align: top;\n",
              "    }\n",
              "\n",
              "    .dataframe thead th {\n",
              "        text-align: right;\n",
              "    }\n",
              "</style>\n",
              "<table border=\"1\" class=\"dataframe\">\n",
              "  <thead>\n",
              "    <tr style=\"text-align: right;\">\n",
              "      <th></th>\n",
              "      <th>Rank</th>\n",
              "      <th>Country</th>\n",
              "      <th>GDP(US$MM)</th>\n",
              "    </tr>\n",
              "  </thead>\n",
              "  <tbody>\n",
              "    <tr>\n",
              "      <th>0</th>\n",
              "      <td>1</td>\n",
              "      <td>United States</td>\n",
              "      <td>19,390,600</td>\n",
              "    </tr>\n",
              "    <tr>\n",
              "      <th>1</th>\n",
              "      <td>2</td>\n",
              "      <td>China[n 1]</td>\n",
              "      <td>12,014,610</td>\n",
              "    </tr>\n",
              "    <tr>\n",
              "      <th>2</th>\n",
              "      <td>3</td>\n",
              "      <td>Japan</td>\n",
              "      <td>4,872,135</td>\n",
              "    </tr>\n",
              "    <tr>\n",
              "      <th>3</th>\n",
              "      <td>4</td>\n",
              "      <td>Germany</td>\n",
              "      <td>3,684,816</td>\n",
              "    </tr>\n",
              "    <tr>\n",
              "      <th>4</th>\n",
              "      <td>5</td>\n",
              "      <td>United Kingdom</td>\n",
              "      <td>2,624,529</td>\n",
              "    </tr>\n",
              "  </tbody>\n",
              "</table>\n",
              "</div>\n",
              "      <button class=\"colab-df-convert\" onclick=\"convertToInteractive('df-a3eb3aec-53c9-4157-ab04-f58de678ebf8')\"\n",
              "              title=\"Convert this dataframe to an interactive table.\"\n",
              "              style=\"display:none;\">\n",
              "        \n",
              "  <svg xmlns=\"http://www.w3.org/2000/svg\" height=\"24px\"viewBox=\"0 0 24 24\"\n",
              "       width=\"24px\">\n",
              "    <path d=\"M0 0h24v24H0V0z\" fill=\"none\"/>\n",
              "    <path d=\"M18.56 5.44l.94 2.06.94-2.06 2.06-.94-2.06-.94-.94-2.06-.94 2.06-2.06.94zm-11 1L8.5 8.5l.94-2.06 2.06-.94-2.06-.94L8.5 2.5l-.94 2.06-2.06.94zm10 10l.94 2.06.94-2.06 2.06-.94-2.06-.94-.94-2.06-.94 2.06-2.06.94z\"/><path d=\"M17.41 7.96l-1.37-1.37c-.4-.4-.92-.59-1.43-.59-.52 0-1.04.2-1.43.59L10.3 9.45l-7.72 7.72c-.78.78-.78 2.05 0 2.83L4 21.41c.39.39.9.59 1.41.59.51 0 1.02-.2 1.41-.59l7.78-7.78 2.81-2.81c.8-.78.8-2.07 0-2.86zM5.41 20L4 18.59l7.72-7.72 1.47 1.35L5.41 20z\"/>\n",
              "  </svg>\n",
              "      </button>\n",
              "      \n",
              "  <style>\n",
              "    .colab-df-container {\n",
              "      display:flex;\n",
              "      flex-wrap:wrap;\n",
              "      gap: 12px;\n",
              "    }\n",
              "\n",
              "    .colab-df-convert {\n",
              "      background-color: #E8F0FE;\n",
              "      border: none;\n",
              "      border-radius: 50%;\n",
              "      cursor: pointer;\n",
              "      display: none;\n",
              "      fill: #1967D2;\n",
              "      height: 32px;\n",
              "      padding: 0 0 0 0;\n",
              "      width: 32px;\n",
              "    }\n",
              "\n",
              "    .colab-df-convert:hover {\n",
              "      background-color: #E2EBFA;\n",
              "      box-shadow: 0px 1px 2px rgba(60, 64, 67, 0.3), 0px 1px 3px 1px rgba(60, 64, 67, 0.15);\n",
              "      fill: #174EA6;\n",
              "    }\n",
              "\n",
              "    [theme=dark] .colab-df-convert {\n",
              "      background-color: #3B4455;\n",
              "      fill: #D2E3FC;\n",
              "    }\n",
              "\n",
              "    [theme=dark] .colab-df-convert:hover {\n",
              "      background-color: #434B5C;\n",
              "      box-shadow: 0px 1px 3px 1px rgba(0, 0, 0, 0.15);\n",
              "      filter: drop-shadow(0px 1px 2px rgba(0, 0, 0, 0.3));\n",
              "      fill: #FFFFFF;\n",
              "    }\n",
              "  </style>\n",
              "\n",
              "      <script>\n",
              "        const buttonEl =\n",
              "          document.querySelector('#df-a3eb3aec-53c9-4157-ab04-f58de678ebf8 button.colab-df-convert');\n",
              "        buttonEl.style.display =\n",
              "          google.colab.kernel.accessAllowed ? 'block' : 'none';\n",
              "\n",
              "        async function convertToInteractive(key) {\n",
              "          const element = document.querySelector('#df-a3eb3aec-53c9-4157-ab04-f58de678ebf8');\n",
              "          const dataTable =\n",
              "            await google.colab.kernel.invokeFunction('convertToInteractive',\n",
              "                                                     [key], {});\n",
              "          if (!dataTable) return;\n",
              "\n",
              "          const docLinkHtml = 'Like what you see? Visit the ' +\n",
              "            '<a target=\"_blank\" href=https://colab.research.google.com/notebooks/data_table.ipynb>data table notebook</a>'\n",
              "            + ' to learn more about interactive tables.';\n",
              "          element.innerHTML = '';\n",
              "          dataTable['output_type'] = 'display_data';\n",
              "          await google.colab.output.renderOutput(dataTable, element);\n",
              "          const docLink = document.createElement('div');\n",
              "          docLink.innerHTML = docLinkHtml;\n",
              "          element.appendChild(docLink);\n",
              "        }\n",
              "      </script>\n",
              "    </div>\n",
              "  </div>\n",
              "  "
            ]
          },
          "metadata": {},
          "execution_count": 54
        }
      ]
    },
    {
      "cell_type": "code",
      "source": [
        "# seperating the header names from the data (for the SECOND source)\n",
        "header2 = [th.getText().strip() for th in data_tables[1][0].findAll('thead')[0].findAll('th')] # selecting 2nd table headers\n",
        "rows2 = data_tables[1][0].findAll('tbody')[0].findAll('tr')[1:] # selecting 2nd table rows\n",
        "\n",
        "def find_right_text(i, td): #creating a function to find 2nd table data\n",
        "    if i == 0:\n",
        "        return td.getText().strip()\n",
        "    elif i == 1:\n",
        "        return td.getText().strip()\n",
        "    else:\n",
        "        index = td.text.find(\"♠\")\n",
        "        return td.text[index+1:].strip()\n",
        "\n",
        "data_rows2 = [[find_right_text(i, td) for i, td in enumerate(tr.findAll('td'))] for tr in rows2] # selecting 2nd table data using our new function\n",
        "df2 = pd.DataFrame(data_rows2, columns=header2)\n",
        "df2.head() # showing the new dataframe with headers and first rows"
      ],
      "metadata": {
        "colab": {
          "base_uri": "https://localhost:8080/",
          "height": 206
        },
        "id": "Z4RNkinKO0DA",
        "outputId": "fd2d7fbc-8974-4420-b9f3-1f1af2219a82"
      },
      "execution_count": null,
      "outputs": [
        {
          "output_type": "execute_result",
          "data": {
            "text/plain": [
              "  Rank             Country  GDP(US$MM)\n",
              "0    1       United States  19,390,604\n",
              "1       European Union[23]  17,277,698\n",
              "2    2          China[n 4]  12,237,700\n",
              "3    3               Japan   4,872,137\n",
              "4    4             Germany   3,677,439"
            ],
            "text/html": [
              "\n",
              "  <div id=\"df-19090033-e6ce-44e2-8306-2f0bebd798d3\">\n",
              "    <div class=\"colab-df-container\">\n",
              "      <div>\n",
              "<style scoped>\n",
              "    .dataframe tbody tr th:only-of-type {\n",
              "        vertical-align: middle;\n",
              "    }\n",
              "\n",
              "    .dataframe tbody tr th {\n",
              "        vertical-align: top;\n",
              "    }\n",
              "\n",
              "    .dataframe thead th {\n",
              "        text-align: right;\n",
              "    }\n",
              "</style>\n",
              "<table border=\"1\" class=\"dataframe\">\n",
              "  <thead>\n",
              "    <tr style=\"text-align: right;\">\n",
              "      <th></th>\n",
              "      <th>Rank</th>\n",
              "      <th>Country</th>\n",
              "      <th>GDP(US$MM)</th>\n",
              "    </tr>\n",
              "  </thead>\n",
              "  <tbody>\n",
              "    <tr>\n",
              "      <th>0</th>\n",
              "      <td>1</td>\n",
              "      <td>United States</td>\n",
              "      <td>19,390,604</td>\n",
              "    </tr>\n",
              "    <tr>\n",
              "      <th>1</th>\n",
              "      <td></td>\n",
              "      <td>European Union[23]</td>\n",
              "      <td>17,277,698</td>\n",
              "    </tr>\n",
              "    <tr>\n",
              "      <th>2</th>\n",
              "      <td>2</td>\n",
              "      <td>China[n 4]</td>\n",
              "      <td>12,237,700</td>\n",
              "    </tr>\n",
              "    <tr>\n",
              "      <th>3</th>\n",
              "      <td>3</td>\n",
              "      <td>Japan</td>\n",
              "      <td>4,872,137</td>\n",
              "    </tr>\n",
              "    <tr>\n",
              "      <th>4</th>\n",
              "      <td>4</td>\n",
              "      <td>Germany</td>\n",
              "      <td>3,677,439</td>\n",
              "    </tr>\n",
              "  </tbody>\n",
              "</table>\n",
              "</div>\n",
              "      <button class=\"colab-df-convert\" onclick=\"convertToInteractive('df-19090033-e6ce-44e2-8306-2f0bebd798d3')\"\n",
              "              title=\"Convert this dataframe to an interactive table.\"\n",
              "              style=\"display:none;\">\n",
              "        \n",
              "  <svg xmlns=\"http://www.w3.org/2000/svg\" height=\"24px\"viewBox=\"0 0 24 24\"\n",
              "       width=\"24px\">\n",
              "    <path d=\"M0 0h24v24H0V0z\" fill=\"none\"/>\n",
              "    <path d=\"M18.56 5.44l.94 2.06.94-2.06 2.06-.94-2.06-.94-.94-2.06-.94 2.06-2.06.94zm-11 1L8.5 8.5l.94-2.06 2.06-.94-2.06-.94L8.5 2.5l-.94 2.06-2.06.94zm10 10l.94 2.06.94-2.06 2.06-.94-2.06-.94-.94-2.06-.94 2.06-2.06.94z\"/><path d=\"M17.41 7.96l-1.37-1.37c-.4-.4-.92-.59-1.43-.59-.52 0-1.04.2-1.43.59L10.3 9.45l-7.72 7.72c-.78.78-.78 2.05 0 2.83L4 21.41c.39.39.9.59 1.41.59.51 0 1.02-.2 1.41-.59l7.78-7.78 2.81-2.81c.8-.78.8-2.07 0-2.86zM5.41 20L4 18.59l7.72-7.72 1.47 1.35L5.41 20z\"/>\n",
              "  </svg>\n",
              "      </button>\n",
              "      \n",
              "  <style>\n",
              "    .colab-df-container {\n",
              "      display:flex;\n",
              "      flex-wrap:wrap;\n",
              "      gap: 12px;\n",
              "    }\n",
              "\n",
              "    .colab-df-convert {\n",
              "      background-color: #E8F0FE;\n",
              "      border: none;\n",
              "      border-radius: 50%;\n",
              "      cursor: pointer;\n",
              "      display: none;\n",
              "      fill: #1967D2;\n",
              "      height: 32px;\n",
              "      padding: 0 0 0 0;\n",
              "      width: 32px;\n",
              "    }\n",
              "\n",
              "    .colab-df-convert:hover {\n",
              "      background-color: #E2EBFA;\n",
              "      box-shadow: 0px 1px 2px rgba(60, 64, 67, 0.3), 0px 1px 3px 1px rgba(60, 64, 67, 0.15);\n",
              "      fill: #174EA6;\n",
              "    }\n",
              "\n",
              "    [theme=dark] .colab-df-convert {\n",
              "      background-color: #3B4455;\n",
              "      fill: #D2E3FC;\n",
              "    }\n",
              "\n",
              "    [theme=dark] .colab-df-convert:hover {\n",
              "      background-color: #434B5C;\n",
              "      box-shadow: 0px 1px 3px 1px rgba(0, 0, 0, 0.15);\n",
              "      filter: drop-shadow(0px 1px 2px rgba(0, 0, 0, 0.3));\n",
              "      fill: #FFFFFF;\n",
              "    }\n",
              "  </style>\n",
              "\n",
              "      <script>\n",
              "        const buttonEl =\n",
              "          document.querySelector('#df-19090033-e6ce-44e2-8306-2f0bebd798d3 button.colab-df-convert');\n",
              "        buttonEl.style.display =\n",
              "          google.colab.kernel.accessAllowed ? 'block' : 'none';\n",
              "\n",
              "        async function convertToInteractive(key) {\n",
              "          const element = document.querySelector('#df-19090033-e6ce-44e2-8306-2f0bebd798d3');\n",
              "          const dataTable =\n",
              "            await google.colab.kernel.invokeFunction('convertToInteractive',\n",
              "                                                     [key], {});\n",
              "          if (!dataTable) return;\n",
              "\n",
              "          const docLinkHtml = 'Like what you see? Visit the ' +\n",
              "            '<a target=\"_blank\" href=https://colab.research.google.com/notebooks/data_table.ipynb>data table notebook</a>'\n",
              "            + ' to learn more about interactive tables.';\n",
              "          element.innerHTML = '';\n",
              "          dataTable['output_type'] = 'display_data';\n",
              "          await google.colab.output.renderOutput(dataTable, element);\n",
              "          const docLink = document.createElement('div');\n",
              "          docLink.innerHTML = docLinkHtml;\n",
              "          element.appendChild(docLink);\n",
              "        }\n",
              "      </script>\n",
              "    </div>\n",
              "  </div>\n",
              "  "
            ]
          },
          "metadata": {},
          "execution_count": 56
        }
      ]
    },
    {
      "cell_type": "code",
      "source": [
        "# seperating the header names from the data (for the THIRD source)\n",
        "header3 = [th.getText().strip() for th in data_tables[2][0].findAll('thead')[0].findAll('th')] # selecting 3rd table headers\n",
        "rows3 = data_tables[2][0].findAll('tbody')[0].findAll('tr')[1:] # selecting 2nd table rows\n",
        "data_rows3 = [[find_right_text(i, td) for i, td in enumerate(tr.findAll('td'))] for tr in rows3] # selecting 2nd table data using our new function\n",
        "df3 = pd.DataFrame(data_rows3, columns=header3)\n",
        "df3.head() # showing the new dataframe with headers and first rows"
      ],
      "metadata": {
        "colab": {
          "base_uri": "https://localhost:8080/",
          "height": 206
        },
        "id": "ak_IROM-RYMB",
        "outputId": "59ba2f61-805c-429b-b191-2f7e66b214cf"
      },
      "execution_count": null,
      "outputs": [
        {
          "output_type": "execute_result",
          "data": {
            "text/plain": [
              "  Rank         Country  GDP(US$MM)\n",
              "0    1   United States  18,624,475\n",
              "1    2      China[n 4]  11,218,281\n",
              "2    3           Japan   4,936,211\n",
              "3    4         Germany   3,477,796\n",
              "4    5  United Kingdom   2,647,898"
            ],
            "text/html": [
              "\n",
              "  <div id=\"df-88f88f57-6c90-4278-8008-d32dd90347db\">\n",
              "    <div class=\"colab-df-container\">\n",
              "      <div>\n",
              "<style scoped>\n",
              "    .dataframe tbody tr th:only-of-type {\n",
              "        vertical-align: middle;\n",
              "    }\n",
              "\n",
              "    .dataframe tbody tr th {\n",
              "        vertical-align: top;\n",
              "    }\n",
              "\n",
              "    .dataframe thead th {\n",
              "        text-align: right;\n",
              "    }\n",
              "</style>\n",
              "<table border=\"1\" class=\"dataframe\">\n",
              "  <thead>\n",
              "    <tr style=\"text-align: right;\">\n",
              "      <th></th>\n",
              "      <th>Rank</th>\n",
              "      <th>Country</th>\n",
              "      <th>GDP(US$MM)</th>\n",
              "    </tr>\n",
              "  </thead>\n",
              "  <tbody>\n",
              "    <tr>\n",
              "      <th>0</th>\n",
              "      <td>1</td>\n",
              "      <td>United States</td>\n",
              "      <td>18,624,475</td>\n",
              "    </tr>\n",
              "    <tr>\n",
              "      <th>1</th>\n",
              "      <td>2</td>\n",
              "      <td>China[n 4]</td>\n",
              "      <td>11,218,281</td>\n",
              "    </tr>\n",
              "    <tr>\n",
              "      <th>2</th>\n",
              "      <td>3</td>\n",
              "      <td>Japan</td>\n",
              "      <td>4,936,211</td>\n",
              "    </tr>\n",
              "    <tr>\n",
              "      <th>3</th>\n",
              "      <td>4</td>\n",
              "      <td>Germany</td>\n",
              "      <td>3,477,796</td>\n",
              "    </tr>\n",
              "    <tr>\n",
              "      <th>4</th>\n",
              "      <td>5</td>\n",
              "      <td>United Kingdom</td>\n",
              "      <td>2,647,898</td>\n",
              "    </tr>\n",
              "  </tbody>\n",
              "</table>\n",
              "</div>\n",
              "      <button class=\"colab-df-convert\" onclick=\"convertToInteractive('df-88f88f57-6c90-4278-8008-d32dd90347db')\"\n",
              "              title=\"Convert this dataframe to an interactive table.\"\n",
              "              style=\"display:none;\">\n",
              "        \n",
              "  <svg xmlns=\"http://www.w3.org/2000/svg\" height=\"24px\"viewBox=\"0 0 24 24\"\n",
              "       width=\"24px\">\n",
              "    <path d=\"M0 0h24v24H0V0z\" fill=\"none\"/>\n",
              "    <path d=\"M18.56 5.44l.94 2.06.94-2.06 2.06-.94-2.06-.94-.94-2.06-.94 2.06-2.06.94zm-11 1L8.5 8.5l.94-2.06 2.06-.94-2.06-.94L8.5 2.5l-.94 2.06-2.06.94zm10 10l.94 2.06.94-2.06 2.06-.94-2.06-.94-.94-2.06-.94 2.06-2.06.94z\"/><path d=\"M17.41 7.96l-1.37-1.37c-.4-.4-.92-.59-1.43-.59-.52 0-1.04.2-1.43.59L10.3 9.45l-7.72 7.72c-.78.78-.78 2.05 0 2.83L4 21.41c.39.39.9.59 1.41.59.51 0 1.02-.2 1.41-.59l7.78-7.78 2.81-2.81c.8-.78.8-2.07 0-2.86zM5.41 20L4 18.59l7.72-7.72 1.47 1.35L5.41 20z\"/>\n",
              "  </svg>\n",
              "      </button>\n",
              "      \n",
              "  <style>\n",
              "    .colab-df-container {\n",
              "      display:flex;\n",
              "      flex-wrap:wrap;\n",
              "      gap: 12px;\n",
              "    }\n",
              "\n",
              "    .colab-df-convert {\n",
              "      background-color: #E8F0FE;\n",
              "      border: none;\n",
              "      border-radius: 50%;\n",
              "      cursor: pointer;\n",
              "      display: none;\n",
              "      fill: #1967D2;\n",
              "      height: 32px;\n",
              "      padding: 0 0 0 0;\n",
              "      width: 32px;\n",
              "    }\n",
              "\n",
              "    .colab-df-convert:hover {\n",
              "      background-color: #E2EBFA;\n",
              "      box-shadow: 0px 1px 2px rgba(60, 64, 67, 0.3), 0px 1px 3px 1px rgba(60, 64, 67, 0.15);\n",
              "      fill: #174EA6;\n",
              "    }\n",
              "\n",
              "    [theme=dark] .colab-df-convert {\n",
              "      background-color: #3B4455;\n",
              "      fill: #D2E3FC;\n",
              "    }\n",
              "\n",
              "    [theme=dark] .colab-df-convert:hover {\n",
              "      background-color: #434B5C;\n",
              "      box-shadow: 0px 1px 3px 1px rgba(0, 0, 0, 0.15);\n",
              "      filter: drop-shadow(0px 1px 2px rgba(0, 0, 0, 0.3));\n",
              "      fill: #FFFFFF;\n",
              "    }\n",
              "  </style>\n",
              "\n",
              "      <script>\n",
              "        const buttonEl =\n",
              "          document.querySelector('#df-88f88f57-6c90-4278-8008-d32dd90347db button.colab-df-convert');\n",
              "        buttonEl.style.display =\n",
              "          google.colab.kernel.accessAllowed ? 'block' : 'none';\n",
              "\n",
              "        async function convertToInteractive(key) {\n",
              "          const element = document.querySelector('#df-88f88f57-6c90-4278-8008-d32dd90347db');\n",
              "          const dataTable =\n",
              "            await google.colab.kernel.invokeFunction('convertToInteractive',\n",
              "                                                     [key], {});\n",
              "          if (!dataTable) return;\n",
              "\n",
              "          const docLinkHtml = 'Like what you see? Visit the ' +\n",
              "            '<a target=\"_blank\" href=https://colab.research.google.com/notebooks/data_table.ipynb>data table notebook</a>'\n",
              "            + ' to learn more about interactive tables.';\n",
              "          element.innerHTML = '';\n",
              "          dataTable['output_type'] = 'display_data';\n",
              "          await google.colab.output.renderOutput(dataTable, element);\n",
              "          const docLink = document.createElement('div');\n",
              "          docLink.innerHTML = docLinkHtml;\n",
              "          element.appendChild(docLink);\n",
              "        }\n",
              "      </script>\n",
              "    </div>\n",
              "  </div>\n",
              "  "
            ]
          },
          "metadata": {},
          "execution_count": 57
        }
      ]
    },
    {
      "cell_type": "markdown",
      "source": [
        "## Data Wrangling with Python: Activity 8, page 233\n",
        "\n",
        "Handling of Outliers and Missing Data"
      ],
      "metadata": {
        "id": "C5aMXGBo7UM_"
      }
    },
    {
      "cell_type": "code",
      "source": [
        "# importing libraries needed\n",
        "import pandas as pd\n",
        "import numpy as np\n",
        "import matplotlib.pyplot as plt\n",
        "%matplotlib inline"
      ],
      "metadata": {
        "id": "bDrC37N7jhHZ"
      },
      "execution_count": 8,
      "outputs": []
    },
    {
      "cell_type": "code",
      "source": [
        "# reading csv file\n",
        "df = pd.read_csv('visit_data.csv')\n",
        "df\n",
        "\n",
        "# pd.read_csv does not beak out the columns due to \"\" on each line within the file\n",
        "# to sove this, we will remove the qoutes prior to reading to a dataframe\n",
        "\n",
        "#print(open('visit_data_new.csv', \"r\").read())\n",
        "\n",
        "with open('visit_data.csv', \"r\") as f:\n",
        "   for line in f:\n",
        "     with open(\"visit_data_new.csv\", \"a\") as w:\n",
        "       w.write(line.strip('\\\"'))\n",
        "\n"
      ],
      "metadata": {
        "id": "1fMxL1v5j5XK"
      },
      "execution_count": 16,
      "outputs": []
    },
    {
      "cell_type": "code",
      "source": [
        "# cheking for duplicates\n",
        "print(\"First name is duplictaed - {}\".format(any(df.first_name.duplicated())))\n",
        "print(\"Last name is duplictaed - {}\".format(any(df.last_name.duplicated())))\n",
        "print(\"Email is duplictaed - {}\".format(any(df.email.duplicated())))"
      ],
      "metadata": {
        "id": "-90f-huQkpju",
        "colab": {
          "base_uri": "https://localhost:8080/"
        },
        "outputId": "408c6edb-8bdb-40a0-9522-97c64c218869"
      },
      "execution_count": 17,
      "outputs": [
        {
          "output_type": "stream",
          "name": "stdout",
          "text": [
            "First name is duplictaed - True\n",
            "Last name is duplictaed - True\n",
            "Email is duplictaed - False\n"
          ]
        }
      ]
    },
    {
      "cell_type": "code",
      "source": [
        "# checking for NaNs (in essntial columns)\n",
        "print(\"The column Email contains NaN - %r \" % df.email.isnull().values.any())\n",
        "print(\"The column IP Address contains NaN - %s \" % df.ip_address.isnull().values.any())\n",
        "print(\"The column Visit contains NaN - %s \" % df.visit.isnull().values.any())"
      ],
      "metadata": {
        "colab": {
          "base_uri": "https://localhost:8080/"
        },
        "id": "q1NO-ZSXjrt4",
        "outputId": "23800807-5a6b-4cf1-c658-43c01bbd7f51"
      },
      "execution_count": 18,
      "outputs": [
        {
          "output_type": "stream",
          "name": "stdout",
          "text": [
            "The column Email contains NaN - False \n",
            "The column IP Address contains NaN - False \n",
            "The column Visit contains NaN - True \n"
          ]
        }
      ]
    },
    {
      "cell_type": "code",
      "source": [
        "# removing outliers (from the visit column)\n",
        "size_prev = df.shape\n",
        "df2 = df[np.isfinite(df['visit'])] # creating new data frame in order to keep the oringal for refrence\n",
        "size_after = df2.shape"
      ],
      "metadata": {
        "id": "qt_wXd76j2px"
      },
      "execution_count": 19,
      "outputs": []
    },
    {
      "cell_type": "code",
      "source": [
        "# calulation the size difference\n",
        "print(\"The size of previous data was - {prev[0]} rows and the size of the new (without NaNs) is - {after[0]} rows\".\n",
        "      format(prev=size_prev, after=size_after))"
      ],
      "metadata": {
        "colab": {
          "base_uri": "https://localhost:8080/"
        },
        "id": "bZstKda1j6jJ",
        "outputId": "607f652c-2600-406e-91dc-0db1be9bc438"
      },
      "execution_count": 34,
      "outputs": [
        {
          "output_type": "stream",
          "name": "stdout",
          "text": [
            "The size of previous data was - 1000 rows and the size of the new (without NaNs) is - 974 rows\n"
          ]
        }
      ]
    },
    {
      "cell_type": "code",
      "source": [
        "# creating a box plot to vislize any other outliers\n",
        "plt.boxplot(df2.visit, notch=True)"
      ],
      "metadata": {
        "colab": {
          "base_uri": "https://localhost:8080/",
          "height": 569
        },
        "id": "9eomq5YAj_Ka",
        "outputId": "a2e97d07-4975-4cf6-a14e-17d661246f3e"
      },
      "execution_count": 26,
      "outputs": [
        {
          "output_type": "execute_result",
          "data": {
            "text/plain": [
              "{'whiskers': [<matplotlib.lines.Line2D at 0x7f93742e7a00>,\n",
              "  <matplotlib.lines.Line2D at 0x7f93742e7ca0>],\n",
              " 'caps': [<matplotlib.lines.Line2D at 0x7f93742e7f40>,\n",
              "  <matplotlib.lines.Line2D at 0x7f93742c17c0>],\n",
              " 'boxes': [<matplotlib.lines.Line2D at 0x7f93742e7760>],\n",
              " 'medians': [<matplotlib.lines.Line2D at 0x7f93742c1e50>],\n",
              " 'fliers': [<matplotlib.lines.Line2D at 0x7f93744dbc10>],\n",
              " 'means': []}"
            ]
          },
          "metadata": {},
          "execution_count": 26
        },
        {
          "output_type": "display_data",
          "data": {
            "text/plain": [
              "<Figure size 640x480 with 1 Axes>"
            ],
            "image/png": "[encoded data removed]"
          },
          "metadata": {}
        }
      ]
    },
    {
      "cell_type": "code",
      "source": [
        "# removing the 0 and 3,000 outlier points seen above (in a 3rd data frame df3)\n",
        "df3 = df2[(df2['visit'] <= 2900) & (df2['visit'] >= 100)]"
      ],
      "metadata": {
        "id": "gp2P4D_nkDM0"
      },
      "execution_count": 32,
      "outputs": []
    },
    {
      "cell_type": "code",
      "source": [
        "print(\"After removing the two outliers shown above, the new size of the data is - {}\".format(*df3.shape))"
      ],
      "metadata": {
        "colab": {
          "base_uri": "https://localhost:8080/"
        },
        "id": "19PK7iCUm94n",
        "outputId": "39b9ac3e-45e2-4b51-f65d-1759a5862cd7"
      },
      "execution_count": 31,
      "outputs": [
        {
          "output_type": "stream",
          "name": "stdout",
          "text": [
            "After removing the two outliers shown above, the new size of the data is - 923\n"
          ]
        }
      ]
    },
    {
      "cell_type": "markdown",
      "source": [
        "## SQL Lite database\n",
        "\n",
        "Inserting data into a SQL Lite database with 10 rows of data"
      ],
      "metadata": {
        "id": "29uQe7qZ7Xvt"
      }
    },
    {
      "cell_type": "code",
      "source": [
        "# importing libraries needed\n",
        "import sqlite3\n",
        "from prettytable import PrettyTable"
      ],
      "metadata": {
        "id": "7OHFBilogiZP"
      },
      "execution_count": null,
      "outputs": []
    },
    {
      "cell_type": "code",
      "source": [
        "# connecting to database\n",
        "conn = sqlite3.connect('sqlitedatabase.db')\n",
        "\n",
        "# creating a cursor object\n",
        "cursor = conn.cursor()\n",
        "\n",
        "# Creating a table\n",
        "cursor.execute('''CREATE TABLE contacts8\n",
        "             (id INTEGER PRIMARY KEY, Name Text, Address text, City Text, Zip integer, \\\"Phone Number\\\" integer)''') # using  \\\"\\\" for header with spaces"
      ],
      "metadata": {
        "colab": {
          "base_uri": "https://localhost:8080/"
        },
        "id": "3CUBiH5mhrEe",
        "outputId": "68baddf2-326e-46d5-b864-4fed7df5e0a0"
      },
      "execution_count": null,
      "outputs": [
        {
          "output_type": "execute_result",
          "data": {
            "text/plain": [
              "<sqlite3.Cursor at 0x7fa479787f80>"
            ]
          },
          "metadata": {},
          "execution_count": 5
        }
      ]
    },
    {
      "cell_type": "code",
      "source": [
        "# Adding 10 rows of data to the database\n",
        "cursor.execute(\"INSERT INTO contacts8 (Name, Address, City, Zip, \\\"Phone Number\\\") VALUES ('John Doe', '99 Best St','Cool Town', 10026, 2224340000)\")\n",
        "cursor.execute(\"INSERT INTO contacts8 (Name, Address, City, Zip, \\\"Phone Number\\\") VALUES ('Mary Doe', '99 Best St','Cool Town', 10026, 2224341111)\")\n",
        "cursor.execute(\"INSERT INTO contacts8 (Name, Address, City, Zip, \\\"Phone Number\\\") VALUES ('Susan Feild', '12 Flower Lane','Cool Town', 10026, 2224342323)\")\n",
        "cursor.execute(\"INSERT INTO contacts8 (Name, Address, City, Zip, \\\"Phone Number\\\") VALUES ('Jonny Appleseed', '1 Jonny St','My Town', 10028, 2228881111)\")\n",
        "cursor.execute(\"INSERT INTO contacts8 (Name, Address, City, Zip, \\\"Phone Number\\\") VALUES ('Zuko Keosho', '56 Fire St','Fire Nationa Capital', 99999, 9990001111)\")\n",
        "cursor.execute(\"INSERT INTO contacts8 (Name, Address, City, Zip, \\\"Phone Number\\\") VALUES ('Azula Keosho', '57 Fire St','Fire Nationa Capital', 99999, 9990002222)\")\n",
        "cursor.execute(\"INSERT INTO contacts8 (Name, Address, City, Zip, \\\"Phone Number\\\") VALUES ('Ang Last', '1 Air St','Eastern Air Temple', 10000, 2224346565)\")\n",
        "cursor.execute(\"INSERT INTO contacts8 (Name, Address, City, Zip, \\\"Phone Number\\\") VALUES ('Max Keosho', '6 Fire St','Fire Nationa Capital', 99999, 99900065654)\")\n",
        "cursor.execute(\"INSERT INTO contacts8 (Name, Address, City, Zip, \\\"Phone Number\\\") VALUES ('Lexi Vomo', '10 Air St','Eastern Air Temple', 10000, 2224347658)\")\n",
        "cursor.execute(\"INSERT INTO contacts8 (Name, Address, City, Zip, \\\"Phone Number\\\") VALUES ('Alexa Keosho', '8 Fire St','Fire Nationa Capital', 99999, 9990004312)\")\n",
        "\n",
        "# commiting our changes to the database\n",
        "conn.commit()"
      ],
      "metadata": {
        "id": "nvijVUQ9gf5B"
      },
      "execution_count": null,
      "outputs": []
    },
    {
      "cell_type": "code",
      "source": [
        "# selecting the table in SQL\n",
        "cursor.execute(\"SELECT * FROM contacts8\")\n",
        "rows = cursor.fetchall()\n",
        "\n",
        "# printing the table\n",
        "for row in rows:\n",
        "    print(row)"
      ],
      "metadata": {
        "colab": {
          "base_uri": "https://localhost:8080/"
        },
        "id": "9srtF-5JjSjh",
        "outputId": "bb2121f2-eb17-42df-c71d-2957bd54486a"
      },
      "execution_count": null,
      "outputs": [
        {
          "output_type": "stream",
          "name": "stdout",
          "text": [
            "(1, 'John Doe', '99 Best St', 'Cool Town', 10026, 2224340000)\n",
            "(2, 'Mary Doe', '99 Best St', 'Cool Town', 10026, 2224341111)\n",
            "(3, 'Susan Feild', '12 Flower Lane', 'Cool Town', 10026, 2224342323)\n",
            "(4, 'Jonny Appleseed', '1 Jonny St', 'My Town', 10028, 2228881111)\n",
            "(5, 'Zuko Keosho', '56 Fire St', 'Fire Nationa Capital', 99999, 9990001111)\n",
            "(6, 'Azula Keosho', '57 Fire St', 'Fire Nationa Capital', 99999, 9990002222)\n",
            "(7, 'Ang Last', '1 Air St', 'Eastern Air Temple', 10000, 2224346565)\n",
            "(8, 'Max Keosho', '6 Fire St', 'Fire Nationa Capital', 99999, 99900065654)\n",
            "(9, 'Lexi Vomo', '10 Air St', 'Eastern Air Temple', 10000, 2224347658)\n",
            "(10, 'Alexa Keosho', '8 Fire St', 'Fire Nationa Capital', 99999, 9990004312)\n"
          ]
        }
      ]
    },
    {
      "cell_type": "code",
      "source": [
        "# showing our SQL database as a table\n",
        "table = PrettyTable(['ID', 'Name', 'Address', 'City', 'Zip', 'Phone Number']) # creating a PrettyTable object and set column names\n",
        "\n",
        "# adding rows to the table\n",
        "for row in rows:\n",
        "    table.add_row(row)\n",
        "\n",
        "# printing the \"pretty\" table\n",
        "print(table) \n",
        "\n",
        "# closing connection to database\n",
        "conn.close()"
      ],
      "metadata": {
        "colab": {
          "base_uri": "https://localhost:8080/"
        },
        "id": "cxfdgssOlUhz",
        "outputId": "c427c525-0acf-45e4-9a4c-9461eada1720"
      },
      "execution_count": null,
      "outputs": [
        {
          "output_type": "stream",
          "name": "stdout",
          "text": [
            "+----+-----------------+----------------+----------------------+-------+--------------+\n",
            "| ID |       Name      |    Address     |         City         |  Zip  | Phone Number |\n",
            "+----+-----------------+----------------+----------------------+-------+--------------+\n",
            "| 1  |     John Doe    |   99 Best St   |      Cool Town       | 10026 |  2224340000  |\n",
            "| 2  |     Mary Doe    |   99 Best St   |      Cool Town       | 10026 |  2224341111  |\n",
            "| 3  |   Susan Feild   | 12 Flower Lane |      Cool Town       | 10026 |  2224342323  |\n",
            "| 4  | Jonny Appleseed |   1 Jonny St   |       My Town        | 10028 |  2228881111  |\n",
            "| 5  |   Zuko Keosho   |   56 Fire St   | Fire Nationa Capital | 99999 |  9990001111  |\n",
            "| 6  |   Azula Keosho  |   57 Fire St   | Fire Nationa Capital | 99999 |  9990002222  |\n",
            "| 7  |     Ang Last    |    1 Air St    |  Eastern Air Temple  | 10000 |  2224346565  |\n",
            "| 8  |    Max Keosho   |   6 Fire St    | Fire Nationa Capital | 99999 | 99900065654  |\n",
            "| 9  |    Lexi Vomo    |   10 Air St    |  Eastern Air Temple  | 10000 |  2224347658  |\n",
            "| 10 |   Alexa Keosho  |   8 Fire St    | Fire Nationa Capital | 99999 |  9990004312  |\n",
            "+----+-----------------+----------------+----------------------+-------+--------------+\n"
          ]
        }
      ]
    }
  ],
  "metadata": {
    "kernelspec": {
      "display_name": "Python 3",
      "language": "python",
      "name": "python3"
    },
    "language_info": {
      "codemirror_mode": {
        "name": "ipython",
        "version": 3
      },
      "file_extension": ".py",
      "mimetype": "text/x-python",
      "name": "python",
      "nbconvert_exporter": "python",
      "pygments_lexer": "ipython3",
      "version": "3.7.6"
    },
    "colab": {
      "provenance": []
    }
  },
  "nbformat": 4,
  "nbformat_minor": 0
}