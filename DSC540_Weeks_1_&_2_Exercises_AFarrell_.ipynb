{
  "cells": [
    {
      "cell_type": "markdown",
      "metadata": {
        "id": "E15hGiPH48QY"
      },
      "source": [
        "# Weeks 1 & 2 Exercises\n",
        "\n",
        "## What is Data Wrangling?\n",
        "\n",
        "Amelia Farrell\n",
        "\n",
        "DSC540\n",
        "\n",
        "3/18/23\n"
      ]
    },
    {
      "cell_type": "code",
      "source": [
        "# Connecting to google drive\n",
        "from google.colab import drive \n",
        "drive.mount('/content/drive')\n",
        "\n",
        "# Change to the google drive directory\n",
        "%cd /content/drive/MyDrive/Colab\\ Notebooks/DSC540"
      ],
      "metadata": {
        "colab": {
          "base_uri": "https://localhost:8080/"
        },
        "id": "qAKKTgJh-8Bo",
        "outputId": "c130f717-bb27-46b8-b093-d43e261d979e"
      },
      "execution_count": null,
      "outputs": [
        {
          "output_type": "stream",
          "name": "stdout",
          "text": [
            "Drive already mounted at /content/drive; to attempt to forcibly remount, call drive.mount(\"/content/drive\", force_remount=True).\n",
            "/content/drive/MyDrive/Colab Notebooks/DSC540\n"
          ]
        }
      ]
    },
    {
      "cell_type": "markdown",
      "source": [
        "## world-population.xlsm exercise\n",
        "Creating a line chart with Matplotlib"
      ],
      "metadata": {
        "id": "knAiSpFWTnAV"
      }
    },
    {
      "cell_type": "code",
      "source": [
        "# importing libraries needed\n",
        "import pandas as pd\n",
        "import matplotlib.pyplot as plt\n",
        "\n",
        "# Loading the world-population.xlsm file into a Pandas DataFrame\n",
        "df = pd.read_excel(\"world-population.xlsm\", sheet_name='world-population')\n",
        "\n",
        "# Setting the x and y variables\n",
        "x = df['Year']\n",
        "y = df['Population']\n",
        "\n",
        "# Creating a figure and axis\n",
        "fig, ax = plt.subplots()\n",
        "\n",
        "# Plot the data as a line chart\n",
        "ax.plot(x, y)\n",
        "\n",
        "# Set the chart title and axis labels\n",
        "ax.set_title('World Population Over Time')\n",
        "ax.set_xlabel('Year')\n",
        "ax.set_ylabel('Population')\n",
        "\n",
        "# Display the chart\n",
        "plt.show()"
      ],
      "metadata": {
        "id": "SItG5ctxWjdz",
        "colab": {
          "base_uri": "https://localhost:8080/",
          "height": 295
        },
        "outputId": "a2a8ddac-5c2f-4751-f921-a10ac711afe8"
      },
      "execution_count": null,
      "outputs": [
        {
          "output_type": "display_data",
          "data": {
            "text/plain": [
              "<Figure size 432x288 with 1 Axes>"
            ],
            "image/png": "[encoded data removed]"
          },
          "metadata": {
            "needs_background": "light"
          }
        }
      ]
    },
    {
      "cell_type": "markdown",
      "metadata": {
        "id": "z6HclmAH48Qp"
      },
      "source": [
        "\n",
        "## Data Wrangling with Python: Activity 1 page 17\n",
        "\n",
        "Generate a list of random numbers"
      ]
    },
    {
      "cell_type": "code",
      "execution_count": null,
      "metadata": {
        "id": "uMdU5Ev348Qr"
      },
      "outputs": [],
      "source": [
        "# importing library needed\n",
        "import random\n",
        "\n",
        "# Setting a limit for the number of random numbers generated\n",
        "limit = 100\n",
        "\n",
        "# Creating list\n",
        "randomlist = [random.randint(0,limit) for x in range (0,limit)]\n",
        "\n",
        "# Printing list\n",
        "randomlist"
      ]
    },
    {
      "cell_type": "code",
      "source": [
        "# List where the numbers are divisible by 3\n",
        "randomlist_divisibleby3 = [a for a in randomlist if a % 3 == 0]\n",
        "\n",
        "# Printing list\n",
        "randomlist_divisibleby3"
      ],
      "metadata": {
        "id": "X27PxKaHLicp"
      },
      "execution_count": null,
      "outputs": []
    },
    {
      "cell_type": "code",
      "source": [
        "# Using a loop to find the difference in length\n",
        "# Finding the length and difference\n",
        "len_randomlist = len(randomlist)\n",
        "len_randomlist_divisibleby3 = len(randomlist_divisibleby3)\n",
        "diff = len_randomlist - len_randomlist_divisibleby3\n",
        "\n",
        "# Printing outcome\n",
        "diff\n",
        "\n",
        "# Creating a loop\n",
        "loopnumber = 10\n",
        "diff_list = []\n",
        "for i in range (0, loopnumber):\n",
        "  randomlist = [random.randint(0,limit) for x in range (0,limit)]\n",
        "  randomlist_divisibleby3 = [a for a in randomlist if a % 3 == 0]\n",
        "  len_randomlist = len(randomlist)\n",
        "  len_randomlist_divisibleby3 = len(randomlist_divisibleby3)\n",
        "  diff = len_randomlist - len_randomlist_divisibleby3\n",
        "  diff_list.append(diff)\n",
        "diff_list"
      ],
      "metadata": {
        "colab": {
          "base_uri": "https://localhost:8080/"
        },
        "id": "wK6vfz6Xlh4s",
        "outputId": "ba1bbc8b-2a0c-4879-aa43-acfdfbd2eebe"
      },
      "execution_count": null,
      "outputs": [
        {
          "output_type": "execute_result",
          "data": {
            "text/plain": [
              "[63, 63, 68, 68, 68, 59, 66, 69, 66, 68]"
            ]
          },
          "metadata": {},
          "execution_count": 20
        }
      ]
    },
    {
      "cell_type": "markdown",
      "source": [
        "## Data Wrangling with Python: Activity 2 page 31\n",
        "Analyze string and word count"
      ],
      "metadata": {
        "id": "HWfGuXYFvG1v"
      }
    },
    {
      "cell_type": "code",
      "source": [
        "# Creating string variable with first chapter of P&P\n",
        "mutiline_text = \"\"\"It is a truth universally acknowledged, that a single man in possession of a good fortune, must be in want of a wife.\n",
        "\n",
        "However little known the feelings or views of such a man may be on his first entering a neighbourhood, this truth is so well fixed in the minds of the surrounding families, that he is considered the rightful property of some one or other of their daughters.\n",
        "\n",
        "\"My dear Mr. Bennet,\" said his lady to him one day, \"have you heard that Netherfield Park is let at last?\"\n",
        "\n",
        "Mr. Bennet replied that he had not.\n",
        "\n",
        "\"But it is,\" returned she; \"for Mrs. Long has just been here, and she told me all about it.\"\n",
        "\n",
        "Mr. Bennet made no answer.\n",
        "\n",
        "\"Do you not want to know who has taken it?\" cried his wife impatiently.\n",
        "\n",
        "\"You want to tell me, and I have no objection to hearing it.\"\n",
        "\n",
        "This was invitation enough.\n",
        "\n",
        "\"Why, my dear, you must know, Mrs. Long says that Netherfield is taken by a young man of large fortune from the north of England; that he came down on Monday in a chaise and four to see the place, and was so much delighted with it, that he agreed with Mr. Morris immediately; that he is to take possession before Michaelmas, and some of his servants are to be in the house by the end of next week.\"\n",
        "\n",
        "\"What is his name?\"\n",
        "\n",
        "\"Bingley.\"\n",
        "\n",
        "\"Is he married or single?\"\n",
        "\n",
        "\"Oh! Single, my dear, to be sure! A single man of large fortune; four or five thousand a year. What a fine thing for our girls!\"\n",
        "\n",
        "\"How so? How can it affect them?\"\n",
        "\n",
        "\"My dear Mr. Bennet,\" replied his wife, \"how can you be so tiresome! You must know that I am thinking of his marrying one of them.\"\n",
        "\n",
        "\"Is that his design in settling here?\"\n",
        "\n",
        "\"Design! Nonsense, how can you talk so! But it is very likely that he may fall in love with one of them, and therefore you must visit him as soon as he comes.\"\n",
        "\n",
        "\"I see no occasion for that. You and the girls may go, or you may send them by themselves, which perhaps will be still better, for as you are as handsome as any of them, Mr. Bingley may like you the best of the party.\"\n",
        "\n",
        "\"My dear, you flatter me. I certainly have had my share of beauty, but I do not pretend to be anything extraordinary now. When a woman has five grown-up daughters, she ought to give over thinking of her own beauty.\"\n",
        "\n",
        "\"In such cases, a woman has not often much beauty to think of.\"\n",
        "\n",
        "\"But, my dear, you must indeed go and see Mr. Bingley when he comes into the neighbourhood.\"\n",
        "\n",
        "\"It is more than I engage for, I assure you.\"\n",
        "\n",
        "\"But consider your daughters. Only think what an establishment it would be for one of them. Sir William and Lady Lucas are determined to go, merely on that account, for in general, you know, they visit no newcomers. Indeed you must go, for it will be impossible for us to visit him if you do not.\"\n",
        "\n",
        "\"You are over-scrupulous, surely. I dare say Mr. Bingley will be very glad to see you; and I will send a few lines by you to assure him of my hearty consent to his marrying whichever he chooses of the girls; though I must throw in a good word for my little Lizzy.\"\n",
        "\n",
        "\"I desire you will do no such thing. Lizzy is not a bit better than the others; and I am sure she is not half so handsome as Jane, nor half so good-humoured as Lydia. But you are always giving her the preference.\"\n",
        "\n",
        "\"They have none of them much to recommend them,\" replied he; \"they are all silly and ignorant like other girls; but Lizzy has something more of quickness than her sisters.\"\n",
        "\n",
        "\"Mr. Bennet, how can you abuse your own children in such a way? You take delight in vexing me. You have no compassion for my poor nerves.\"\n",
        "\n",
        "\"You mistake me, my dear. I have a high respect for your nerves. They are my old friends. I have heard you mention them with consideration these last twenty years at least.\"\n",
        "\n",
        "\"Ah, you do not know what I suffer.\"\n",
        "\n",
        "\"But I hope you will get over it, and live to see many young men of four thousand a year come into the neighbourhood.\"\n",
        "\n",
        "\"It will be no use to us, if twenty such should come, since you will not visit them.\"\n",
        "\n",
        "\"Depend upon it, my dear, that when there are twenty, I will visit them all.\"\n",
        "\n",
        "Mr. Bennet was so odd a mixture of quick parts, sarcastic humour, reserve, and caprice, that the experience of three-and-twenty years had been insufficient \"\"\""
      ],
      "metadata": {
        "id": "r0ICdk5NqcwV"
      },
      "execution_count": null,
      "outputs": []
    },
    {
      "cell_type": "code",
      "source": [
        "# Finding type and length of chapter/string\n",
        "print(type(mutiline_text))\n",
        "len(mutiline_text)"
      ],
      "metadata": {
        "colab": {
          "base_uri": "https://localhost:8080/"
        },
        "id": "z5D6ZlmGraep",
        "outputId": "a484286e-168c-4b06-b321-98a2db22cff7"
      },
      "execution_count": null,
      "outputs": [
        {
          "output_type": "stream",
          "name": "stdout",
          "text": [
            "<class 'str'>\n"
          ]
        },
        {
          "output_type": "execute_result",
          "data": {
            "text/plain": [
              "4096"
            ]
          },
          "metadata": {},
          "execution_count": 45
        }
      ]
    },
    {
      "cell_type": "code",
      "source": [
        "# removing 'new lines' and symbols from string\n",
        "mutiline_text = mutiline_text.replace('\\n', \"\")\n",
        "\n",
        "# removing punctuations\n",
        "import re\n",
        "cleaned_multiline_text_2 = re.sub(r'[?|$|.|!|\"|,|;|:]',r'',mutiline_text)\n",
        "\n",
        "# creating a list from the string\n",
        "list_of_words = cleaned_multiline_text.split()\n",
        "\n",
        "# creating a dictionary of unique words from cleaned text\n",
        "unique_words_as_dict = dict.fromkeys(list_of_words)\n",
        "len(list(unique_words_as_dict.keys()))\n",
        "\n",
        "# counting number of times each word has apeared in list using a loop\n",
        "for word in list_of_words:\n",
        "    if unique_words_as_dict[word] is None:\n",
        "        unique_words_as_dict[word] = 1\n",
        "    else:\n",
        "        unique_words_as_dict[word] += 1\n",
        "        \n",
        "# finding the top 25 words from the dictionary\n",
        "top_words = sorted(unique_words_as_dict.items(), key=lambda key_val_tuple: key_val_tuple[1], reverse=True)\n",
        "top_words[:25]"
      ],
      "metadata": {
        "colab": {
          "base_uri": "https://localhost:8080/"
        },
        "id": "VmrWLLBRrs0D",
        "outputId": "6c5ab71f-f59d-4377-d769-146b2fce151a"
      },
      "execution_count": null,
      "outputs": [
        {
          "output_type": "execute_result",
          "data": {
            "text/plain": [
              "[('of', 27),\n",
              " ('you', 24),\n",
              " ('a', 19),\n",
              " ('to', 19),\n",
              " ('the', 17),\n",
              " ('I', 17),\n",
              " ('that', 15),\n",
              " ('and', 15),\n",
              " ('is', 12),\n",
              " ('for', 12),\n",
              " ('in', 11),\n",
              " ('be', 11),\n",
              " ('he', 11),\n",
              " ('it', 11),\n",
              " ('them', 11),\n",
              " ('Mr', 10),\n",
              " ('my', 10),\n",
              " ('his', 9),\n",
              " ('not', 9),\n",
              " ('will', 9),\n",
              " ('so', 8),\n",
              " ('dear', 8),\n",
              " ('are', 8),\n",
              " ('must', 7),\n",
              " ('have', 7)]"
            ]
          },
          "metadata": {},
          "execution_count": 31
        }
      ]
    },
    {
      "cell_type": "markdown",
      "source": [
        "## Data Wrangling with Python: Activity 3 page 49\n",
        "Permuntation, Iterator, Lambda, and List\n",
        "\n",
        "Permuntation - an approach to where a problem is solved by iteratively making small changes (permutations) and testing each change to see if it behaves as desired."
      ],
      "metadata": {
        "id": "doaOWB5EuKWC"
      }
    },
    {
      "cell_type": "code",
      "source": [
        "# importing permutations package\n",
        "from itertools import permutations\n",
        "\n",
        "# using permutations package to generate all possible 3 digit numbers with 1,2,& 3\n",
        "permutations(range(3))\n",
        "\n",
        "# creating tuples and printing each element\n",
        "for number_tuple in permutations(range(3)):\n",
        "  print(number_tuple)\n",
        "  assert isinstance(number_tuple, tuple)"
      ],
      "metadata": {
        "colab": {
          "base_uri": "https://localhost:8080/"
        },
        "id": "BZ5yW6F6xWA1",
        "outputId": "97bea570-7b4b-4707-b960-97774b1b570a"
      },
      "execution_count": null,
      "outputs": [
        {
          "output_type": "stream",
          "name": "stdout",
          "text": [
            "(0, 1, 2)\n",
            "(0, 2, 1)\n",
            "(1, 0, 2)\n",
            "(1, 2, 0)\n",
            "(2, 0, 1)\n",
            "(2, 1, 0)\n"
          ]
        }
      ]
    },
    {
      "cell_type": "code",
      "source": [
        "# importing dropwhile package\n",
        "from itertools import dropwhile\n",
        "\n",
        "# creating another loop but using 'dropwhile' with a lambda expression to drop leading zeros from tuples\n",
        "for number_tuple in permutations(range(3)):\n",
        "  print(list(dropwhile(lambda x: x <0, number_tuple)))\n",
        "print(type(list(dropwhile(lambda x: x <0, number_tuple))))\n",
        "\n",
        "# passing the same list from the 'dropwhile'but outputing whole numbers rather than tuples\n",
        "import math\n",
        "def tupletonumber(mumberlist):\n",
        "  wholenumber = 0\n",
        "  for i in range(0,len (mumberlist)):\n",
        "    wholenumber += (mumberlist.pop()*(math.pow(10,i)))\n",
        "  return wholenumber\n",
        "for number_tuple in permutations(range(3)):\n",
        "  mumberlist = list(dropwhile(lambda x: x <0, number_tuple))\n",
        "  print(tupletonumber(mumberlist))"
      ],
      "metadata": {
        "colab": {
          "base_uri": "https://localhost:8080/"
        },
        "id": "hQ3rihTi0gVZ",
        "outputId": "3294241e-8cab-486b-ddb9-d11c5b1d0d8c"
      },
      "execution_count": null,
      "outputs": [
        {
          "output_type": "stream",
          "name": "stdout",
          "text": [
            "[0, 1, 2]\n",
            "[0, 2, 1]\n",
            "[1, 0, 2]\n",
            "[1, 2, 0]\n",
            "[2, 0, 1]\n",
            "[2, 1, 0]\n",
            "<class 'list'>\n",
            "12.0\n",
            "21.0\n",
            "102.0\n",
            "120.0\n",
            "201.0\n",
            "210.0\n"
          ]
        }
      ]
    },
    {
      "cell_type": "markdown",
      "source": [
        "## Data Wrangling with Python: Activity 4 page 59\n",
        "CSV parser"
      ],
      "metadata": {
        "id": "eJtpH2yuuSdm"
      }
    },
    {
      "cell_type": "code",
      "source": [
        "# importing packages needed\n",
        "from itertools import zip_longest\n",
        "\n",
        "# defining the header and lines in CSV and creating the final dictionary\n",
        "def return_dictionary (header, line):\n",
        "  zippline = zip_longest(header, line, fillvalue=None)\n",
        "  ret_dict = {kv[0]: kv[1] for kv in zippline}\n",
        "  return ret_dict\n",
        "\n",
        "# opening csv and creating a dictionary\n",
        "with open(\"sales_record.csv\", \"r\") as fd: # sales_record.csv is stored within direcorty\n",
        "  first_line = fd.readline()\n",
        "  header = first_line.replace(\"\\n\", \"\").split(\",\")\n",
        "  for i, line in enumerate(fd):\n",
        "      line = line.replace(\"\\n\", \"\").split(\",\")\n",
        "      d = return_dictionary(header, line)\n",
        "      print(d)\n",
        "      if i > 10:\n",
        "          break"
      ],
      "metadata": {
        "colab": {
          "base_uri": "https://localhost:8080/"
        },
        "id": "2bA5GE2SKfaL",
        "outputId": "be7a53ad-e3f2-4952-9205-aba3334c8f72"
      },
      "execution_count": null,
      "outputs": [
        {
          "output_type": "stream",
          "name": "stdout",
          "text": [
            "{'Region': 'Central America and the Caribbean', 'Country': 'Antigua and Barbuda ', 'Item Type': 'Baby Food', 'Sales Channel': 'Online', 'Order Priority': 'M', 'Order Date': '12/20/2013', 'Order ID': '957081544', 'Ship Date': '1/11/2014', 'Units Sold': '552', 'Unit Price': '255.28', 'Unit Cost': '159.42', 'Total Revenue': '140914.56', 'Total Cost': '87999.84', 'Total Profit': '52914.72'}\n",
            "{'Region': 'Central America and the Caribbean', 'Country': 'Panama', 'Item Type': 'Snacks', 'Sales Channel': 'Offline', 'Order Priority': 'C', 'Order Date': '7/5/2010', 'Order ID': '301644504', 'Ship Date': '7/26/2010', 'Units Sold': '2167', 'Unit Price': '152.58', 'Unit Cost': '97.44', 'Total Revenue': '330640.86', 'Total Cost': '211152.48', 'Total Profit': '119488.38'}\n",
            "{'Region': 'Europe', 'Country': 'Czech Republic', 'Item Type': 'Beverages', 'Sales Channel': 'Offline', 'Order Priority': 'C', 'Order Date': '9/12/2011', 'Order ID': '478051030', 'Ship Date': '9/29/2011', 'Units Sold': '4778', 'Unit Price': '47.45', 'Unit Cost': '31.79', 'Total Revenue': '226716.10', 'Total Cost': '151892.62', 'Total Profit': '74823.48'}\n",
            "{'Region': 'Asia', 'Country': 'North Korea', 'Item Type': 'Cereal', 'Sales Channel': 'Offline', 'Order Priority': 'L', 'Order Date': '5/13/2010', 'Order ID': '892599952', 'Ship Date': '6/15/2010', 'Units Sold': '9016', 'Unit Price': '205.70', 'Unit Cost': '117.11', 'Total Revenue': '1854591.20', 'Total Cost': '1055863.76', 'Total Profit': '798727.44'}\n",
            "{'Region': 'Asia', 'Country': 'Sri Lanka', 'Item Type': 'Snacks', 'Sales Channel': 'Offline', 'Order Priority': 'C', 'Order Date': '7/20/2015', 'Order ID': '571902596', 'Ship Date': '7/27/2015', 'Units Sold': '7542', 'Unit Price': '152.58', 'Unit Cost': '97.44', 'Total Revenue': '1150758.36', 'Total Cost': '734892.48', 'Total Profit': '415865.88'}\n",
            "{'Region': 'Middle East and North Africa', 'Country': 'Morocco', 'Item Type': 'Personal Care', 'Sales Channel': 'Offline', 'Order Priority': 'L', 'Order Date': '11/8/2010', 'Order ID': '412882792', 'Ship Date': '11/22/2010', 'Units Sold': '48', 'Unit Price': '81.73', 'Unit Cost': '56.67', 'Total Revenue': '3923.04', 'Total Cost': '2720.16', 'Total Profit': '1202.88'}\n",
            "{'Region': 'Australia and Oceania', 'Country': 'Federated States of Micronesia', 'Item Type': 'Clothes', 'Sales Channel': 'Offline', 'Order Priority': 'H', 'Order Date': '3/28/2011', 'Order ID': '932776868', 'Ship Date': '5/10/2011', 'Units Sold': '8258', 'Unit Price': '109.28', 'Unit Cost': '35.84', 'Total Revenue': '902434.24', 'Total Cost': '295966.72', 'Total Profit': '606467.52'}\n",
            "{'Region': 'Europe', 'Country': 'Bosnia and Herzegovina', 'Item Type': 'Clothes', 'Sales Channel': 'Online', 'Order Priority': 'M', 'Order Date': '10/14/2013', 'Order ID': '919133651', 'Ship Date': '11/4/2013', 'Units Sold': '927', 'Unit Price': '109.28', 'Unit Cost': '35.84', 'Total Revenue': '101302.56', 'Total Cost': '33223.68', 'Total Profit': '68078.88'}\n",
            "{'Region': 'Middle East and North Africa', 'Country': 'Afghanistan', 'Item Type': 'Clothes', 'Sales Channel': 'Offline', 'Order Priority': 'M', 'Order Date': '8/27/2016', 'Order ID': '579814469', 'Ship Date': '10/5/2016', 'Units Sold': '8841', 'Unit Price': '109.28', 'Unit Cost': '35.84', 'Total Revenue': '966144.48', 'Total Cost': '316861.44', 'Total Profit': '649283.04'}\n",
            "{'Region': 'Sub-Saharan Africa', 'Country': 'Ethiopia', 'Item Type': 'Baby Food', 'Sales Channel': 'Online', 'Order Priority': 'M', 'Order Date': '4/13/2015', 'Order ID': '192993152', 'Ship Date': '5/7/2015', 'Units Sold': '9817', 'Unit Price': '255.28', 'Unit Cost': '159.42', 'Total Revenue': '2506083.76', 'Total Cost': '1565026.14', 'Total Profit': '941057.62'}\n",
            "{'Region': 'Middle East and North Africa', 'Country': 'Turkey', 'Item Type': 'Office Supplies', 'Sales Channel': 'Offline', 'Order Priority': 'C', 'Order Date': '9/25/2013', 'Order ID': '557156026', 'Ship Date': '10/15/2013', 'Units Sold': '3704', 'Unit Price': '651.21', 'Unit Cost': '524.96', 'Total Revenue': '2412081.84', 'Total Cost': '1944451.84', 'Total Profit': '467630.00'}\n",
            "{'Region': 'Middle East and North Africa', 'Country': 'Oman', 'Item Type': 'Cosmetics', 'Sales Channel': 'Online', 'Order Priority': 'M', 'Order Date': '5/12/2013', 'Order ID': '741101920', 'Ship Date': '5/17/2013', 'Units Sold': '7382', 'Unit Price': '437.20', 'Unit Cost': '263.33', 'Total Revenue': '3227410.40', 'Total Cost': '1943902.06', 'Total Profit': '1283508.34'}\n"
          ]
        }
      ]
    }
  ],
  "metadata": {
    "kernelspec": {
      "display_name": "Python 3",
      "language": "python",
      "name": "python3"
    },
    "language_info": {
      "codemirror_mode": {
        "name": "ipython",
        "version": 3
      },
      "file_extension": ".py",
      "mimetype": "text/x-python",
      "name": "python",
      "nbconvert_exporter": "python",
      "pygments_lexer": "ipython3",
      "version": "3.7.6"
    },
    "colab": {
      "provenance": []
    }
  },
  "nbformat": 4,
  "nbformat_minor": 0
}