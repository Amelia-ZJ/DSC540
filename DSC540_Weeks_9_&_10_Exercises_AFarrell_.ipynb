{
  "cells": [
    {
      "cell_type": "markdown",
      "metadata": {
        "id": "E15hGiPH48QY"
      },
      "source": [
        "## Weeks 9 & 10 Exercises\n",
        "\n",
        "## Understanding Packages\n",
        "\n",
        "Amelia Farrell\n",
        "\n",
        "DSC540\n",
        "\n",
        "5/14/23\n"
      ]
    },
    {
      "cell_type": "code",
      "source": [
        "# Connecting to google drive\n",
        "from google.colab import drive \n",
        "drive.mount('/content/drive')\n",
        "\n",
        "# Change to the google drive directory\n",
        "%cd /content/drive/MyDrive/Colab\\ Notebooks/DSC540"
      ],
      "metadata": {
        "colab": {
          "base_uri": "https://localhost:8080/"
        },
        "id": "qAKKTgJh-8Bo",
        "outputId": "c46c9e93-868c-45e5-a98e-62deb3fc128d"
      },
      "execution_count": null,
      "outputs": [
        {
          "output_type": "stream",
          "name": "stdout",
          "text": [
            "Drive already mounted at /content/drive; to attempt to forcibly remount, call drive.mount(\"/content/drive\", force_remount=True).\n",
            "/content/drive/MyDrive/Colab Notebooks/DSC540\n"
          ]
        }
      ]
    },
    {
      "cell_type": "markdown",
      "metadata": {
        "id": "z6HclmAH48Qp"
      },
      "source": [
        "## 1. Data Wrangling with Python: Activity 9, page 294\n",
        "\n",
        "Top 100 Ebooks from Gutenberg"
      ]
    },
    {
      "cell_type": "code",
      "execution_count": null,
      "metadata": {
        "id": "uMdU5Ev348Qr"
      },
      "outputs": [],
      "source": [
        "# importing libraries needed\n",
        "import urllib.request, urllib.parse, urllib.error\n",
        "import requests\n",
        "from bs4 import BeautifulSoup\n",
        "import ssl\n",
        "import re"
      ]
    },
    {
      "cell_type": "code",
      "source": [
        "# checking SSL cert (ignoring errors)\n",
        "ctx = ssl.create_default_context()\n",
        "ctx.check_hostname = False\n",
        "ctx.verify_mode = ssl.CERT_NONE"
      ],
      "metadata": {
        "id": "HC7VTiMapiss"
      },
      "execution_count": null,
      "outputs": []
    },
    {
      "cell_type": "code",
      "source": [
        "# reading HTML from URL with bs4\n",
        "top100url = 'https://www.gutenberg.org/browse/scores/top'\n",
        "response = requests.get(top100url)"
      ],
      "metadata": {
        "id": "P4IhPtn_pmsH"
      },
      "execution_count": null,
      "outputs": []
    },
    {
      "cell_type": "code",
      "source": [
        "# creating a function that checks the status of web request\n",
        "def status_check(r):\n",
        "    if r.status_code==200:\n",
        "        print(\"successful\")\n",
        "        return 1\n",
        "    else:\n",
        "        print(\"failed request\")\n",
        "        return -1"
      ],
      "metadata": {
        "id": "ErrRQokWpsRO"
      },
      "execution_count": null,
      "outputs": []
    },
    {
      "cell_type": "code",
      "source": [
        "# checking status\n",
        "status_check(response)"
      ],
      "metadata": {
        "colab": {
          "base_uri": "https://localhost:8080/"
        },
        "id": "uteqisIsqyqD",
        "outputId": "4d0ba3c2-9b34-4095-d9e1-f394119aa400"
      },
      "execution_count": null,
      "outputs": [
        {
          "output_type": "stream",
          "name": "stdout",
          "text": [
            "successful\n"
          ]
        },
        {
          "output_type": "execute_result",
          "data": {
            "text/plain": [
              "1"
            ]
          },
          "metadata": {},
          "execution_count": 7
        }
      ]
    },
    {
      "cell_type": "code",
      "source": [
        "# decoding response from the HTML response\n",
        "htmlcontents = response.content.decode(response.encoding)\n",
        "# parsing using bs4\n",
        "parseddata = BeautifulSoup(htmlcontents, 'html.parser')"
      ],
      "metadata": {
        "id": "CuTiV5wLrJhU"
      },
      "execution_count": null,
      "outputs": []
    },
    {
      "cell_type": "code",
      "source": [
        "# creating an empty list\n",
        "link_list =[]\n",
        "# finding all href tags and storing them in a list of links\n",
        "for link in parseddata.find_all('a'):\n",
        "    #print(link.get('href'))\n",
        "    link_list.append(link.get('href'))\n",
        "# printing the frist 30 from the list we just created\n",
        "link_list [:30]"
      ],
      "metadata": {
        "colab": {
          "base_uri": "https://localhost:8080/"
        },
        "id": "vv6nNvCwpxfy",
        "outputId": "89e7ab99-8980-4c07-856c-d2b91c7c8187"
      },
      "execution_count": null,
      "outputs": [
        {
          "output_type": "execute_result",
          "data": {
            "text/plain": [
              "['/',\n",
              " '/about/',\n",
              " '/about/',\n",
              " '/policy/collection_development.html',\n",
              " '/about/contact_information.html',\n",
              " '/about/background/',\n",
              " '/policy/permission.html',\n",
              " '/policy/privacy_policy.html',\n",
              " '/policy/terms_of_use.html',\n",
              " '/ebooks/',\n",
              " '/ebooks/',\n",
              " '/ebooks/bookshelf/',\n",
              " '/browse/scores/top',\n",
              " '/ebooks/offline_catalogs.html',\n",
              " '/help/',\n",
              " '/help/',\n",
              " '/help/copyright.html',\n",
              " '/help/errata.html',\n",
              " '/help/file_formats.html',\n",
              " '/help/faq.html',\n",
              " '/policy/',\n",
              " '/help/public_domain_ebook_submission.html',\n",
              " '/help/submitting_your_own_work.html',\n",
              " '/help/mobile.html',\n",
              " '/attic/',\n",
              " '/donate/',\n",
              " '/donate/',\n",
              " '#books-last1',\n",
              " '#authors-last1',\n",
              " '#books-last7']"
            ]
          },
          "metadata": {},
          "execution_count": 11
        }
      ]
    },
    {
      "cell_type": "code",
      "source": [
        "# using regex to find the numeric digits within the links above\n",
        "# to do so we first create another empty list\n",
        "book_numbers =[]\n",
        "# next, we create a function to loop over the range and use regex to find the numeric digits within the list of links (href strings).\n",
        "for i in range(19,119):\n",
        "    link=link_list [i]\n",
        "    link=link.strip()\n",
        "    n=re.findall('[0-9]+',link)\n",
        "    if len(n)==1:\n",
        "        book_numbers.append(int(n[0]))"
      ],
      "metadata": {
        "id": "r3rSrR9ep-V0"
      },
      "execution_count": null,
      "outputs": []
    },
    {
      "cell_type": "code",
      "source": [
        "# printing our book numbers\n",
        "print(book_numbers)"
      ],
      "metadata": {
        "colab": {
          "base_uri": "https://localhost:8080/"
        },
        "id": "9fXYf_KUqHWJ",
        "outputId": "5e56c17e-c459-408e-bb1b-3b2b0d333ebb"
      },
      "execution_count": null,
      "outputs": [
        {
          "output_type": "stream",
          "name": "stdout",
          "text": [
            "[1, 1, 7, 7, 30, 30, 1513, 2701, 2641, 145, 100, 37106, 16389, 67979, 6761, 394, 2160, 6593, 4085, 1259, 5197, 1342, 84, 20228, 47629, 11, 16158, 42108, 174, 70749, 345, 64317, 70751, 43, 98, 5200, 10676, 28054, 27827, 70745, 2600, 6130, 70748, 2542, 844, 1400, 24176, 1184, 1661, 2554, 4300, 76, 30254, 2591, 1232, 15845, 4363, 70750, 74, 70744, 1080, 996, 1260, 46, 35899, 120, 1952, 58585, 1998, 25344, 308, 205, 1727, 45, 2680, 16, 1399, 33283, 67098, 3206, 135, 2500, 5740, 8800, 36, 2814, 219, 24790, 1497, 158, 55, 768]\n"
          ]
        }
      ]
    },
    {
      "cell_type": "code",
      "source": [
        "# what does our bs4 object look like? \n",
        "# lerts take a look useing the .text() method (printing only first 2000 characters)\n",
        "print(parseddata.text[:2000])\n"
      ],
      "metadata": {
        "colab": {
          "base_uri": "https://localhost:8080/"
        },
        "id": "CQ7yM8MwtcT0",
        "outputId": "ac7045d4-0f4e-4894-f299-387d996c5b84"
      },
      "execution_count": null,
      "outputs": [
        {
          "output_type": "stream",
          "name": "stdout",
          "text": [
            "\n",
            "\n",
            "\n",
            "\n",
            "Top 100 | Project Gutenberg\n",
            "\n",
            "\n",
            "\n",
            "\n",
            "\n",
            "\n",
            "\n",
            "\n",
            "\n",
            "\n",
            "\n",
            "\n",
            "\n",
            "\n",
            "\n",
            "\n",
            "\n",
            "\n",
            "\n",
            "\n",
            "\n",
            "\n",
            "\n",
            "\n",
            "\n",
            "\n",
            "\n",
            "Menu▾\n",
            "\n",
            "\n",
            "\n",
            "About\n",
            "          ▾\n",
            "\n",
            "▾\n",
            "\n",
            "\n",
            "About Project Gutenberg\n",
            "Collection Development\n",
            "Contact Us\n",
            "History & Philosophy\n",
            "Permissions & License\n",
            "Privacy Policy\n",
            "Terms of Use\n",
            "\n",
            "\n",
            "\n",
            "Search and Browse\n",
            "      \t  ▾\n",
            "\n",
            "▾\n",
            "\n",
            "\n",
            "Book Search\n",
            "Bookshelves\n",
            "Frequently Downloaded\n",
            "Offline Catalogs\n",
            "\n",
            "\n",
            "\n",
            "Help\n",
            "          ▾\n",
            "\n",
            "▾\n",
            "\n",
            "\n",
            "All help topics →\n",
            "Copyright How-To\n",
            "Errata, Fixes and Bug Reports\n",
            "File Formats\n",
            "Frequently Asked Questions\n",
            "Policies →\n",
            "Public Domain eBook Submission\n",
            "Submitting Your Own Work\n",
            "Tablets, Phones and eReaders\n",
            "The Attic →\n",
            "\n",
            "\n",
            "Donate\n",
            "\n",
            "\n",
            "\n",
            "\n",
            "\n",
            "\n",
            "\n",
            "\n",
            "\n",
            "\n",
            "Donation\n",
            "\n",
            "\n",
            "\n",
            "\n",
            "\n",
            "\n",
            "\n",
            "Frequently Viewed or Downloaded\n",
            "These listings are based on the number of times each eBook gets downloaded.\n",
            "      Multiple downloads from the same Internet address on the same day count as one download, and addresses that download more than 100 eBooks in a day are considered robots and are not counted.\n",
            "\n",
            "Downloaded Books\n",
            "2023-05-13200460\n",
            "last 7 days1655506\n",
            "last 30 days7650601\n",
            "\n",
            "\n",
            "\n",
            "Top 100 EBooks yesterday\n",
            "Top 100 Authors yesterday\n",
            "Top 100 EBooks last 7 days\n",
            "Top 100 Authors last 7 days\n",
            "Top 100 EBooks last 30 days\n",
            "Top 100 Authors last 30 days\n",
            "\n",
            "\n",
            "Top 100 EBooks yesterday\n",
            "\n",
            "Romeo and Juliet by William Shakespeare (3021)\n",
            "Moby Dick; Or, The Whale by Herman Melville (2745)\n",
            "A Room with a View by E. M.  Forster (2527)\n",
            "Middlemarch by George Eliot (2514)\n",
            "The Complete Works of William Shakespeare by William Shakespeare (2385)\n",
            "Little Women; Or, Meg, Jo, Beth, and Amy by Louisa May Alcott (2370)\n",
            "The Enchanted April by Elizabeth Von Arnim (2284)\n",
            "The Blue Castle: a novel by L. M.  Montgomery (2277)\n",
            "The Adventures of Ferdinand Count Fathom — Complete by T.  Smollett (2197)\n",
            "Cranford by Elizabeth Cleghorn Gaskell (2174)\n",
            "The Expedition of Humphry Clinker by T.  Smollett (2140)\n",
            "History of Tom Jones, a Foundling by Henry Fielding (2126)\n",
            "The Adventures of Roderick Random by T.  Smollett (2115)\n",
            "Twenty Years After by Alexandre Dumas (2078)\n",
            "My Life — Volume 1 by Richard Wagner (2018)\n",
            "Pride and Prejudice by Jane Aus\n"
          ]
        }
      ]
    },
    {
      "cell_type": "code",
      "source": [
        "# searching the extracted text (with regex) from the object to find the names of top 100 Ebooks\n",
        "# first creating an empty list to store Ebook names\n",
        "titles_list =[]\n",
        "\n",
        "# creating a starting index that points at the text \"Top 100 Ebooks yesterday\"\n",
        "start_idx=parseddata.text.splitlines().index('Top 100 EBooks yesterday')\n",
        "\n",
        "# creating a function to loop 1-100 and add the strings of next 100 lines to our titles_list\n",
        "for i in range(100):\n",
        "    titles_list.append(parseddata.text.splitlines()[start_idx+2+i])\n",
        "\n",
        "# using regex to extract only text from the name strings and append to another empty list\n",
        "titles_list2=[]\n",
        "for i in range(100):\n",
        "    id1,id2=re.match('^[a-zA-Z ]*',titles_list[i]).span()\n",
        "    titles_list2.append(titles_list[i][id1:id2])\n",
        "\n",
        "# using a for loop to print the list of titles we just created above\n",
        "for l in titles_list2:\n",
        "    print(l)"
      ],
      "metadata": {
        "colab": {
          "base_uri": "https://localhost:8080/"
        },
        "id": "noEpGwO3t2W7",
        "outputId": "016a8c5d-9225-4b54-8719-7e72a315c6b1"
      },
      "execution_count": null,
      "outputs": [
        {
          "output_type": "stream",
          "name": "stdout",
          "text": [
            "Top \n",
            "Top \n",
            "Top \n",
            "Top \n",
            "\n",
            "\n",
            "Top \n",
            "\n",
            "Romeo and Juliet by William Shakespeare \n",
            "Moby Dick\n",
            "A Room with a View by E\n",
            "Middlemarch by George Eliot \n",
            "The Complete Works of William Shakespeare by William Shakespeare \n",
            "Little Women\n",
            "The Enchanted April by Elizabeth Von Arnim \n",
            "The Blue Castle\n",
            "The Adventures of Ferdinand Count Fathom \n",
            "Cranford by Elizabeth Cleghorn Gaskell \n",
            "The Expedition of Humphry Clinker by T\n",
            "History of Tom Jones\n",
            "The Adventures of Roderick Random by T\n",
            "Twenty Years After by Alexandre Dumas \n",
            "My Life \n",
            "Pride and Prejudice by Jane Austen \n",
            "Frankenstein\n",
            "Noli Me Tangere by Jos\n",
            "Ang \n",
            "Alice\n",
            "The Facts of Reconstruction by John Roy Lynch \n",
            "The slang dictionary \n",
            "The Picture of Dorian Gray by Oscar Wilde \n",
            "Cosmic symbolism \n",
            "Dracula by Bram Stoker \n",
            "The Great Gatsby by F\n",
            "Archeological investigations in New Mexico\n",
            "The Strange Case of Dr\n",
            "A Tale of Two Cities by Charles Dickens \n",
            "Metamorphosis by Franz Kafka \n",
            "The Reign of Greed by Jos\n",
            "The Brothers Karamazov by Fyodor Dostoyevsky \n",
            "The Kama Sutra of Vatsyayana by Vatsyayana \n",
            "Bouncing Bet by Joslyn Gray \n",
            "War and Peace by graf Leo Tolstoy \n",
            "The Iliad by Homer \n",
            "The speaker\n",
            "A Doll\n",
            "The Importance of Being Earnest\n",
            "Great Expectations by Charles Dickens \n",
            "Jakob von Gunten\n",
            "The Count of Monte Cristo\n",
            "The Adventures of Sherlock Holmes by Arthur Conan Doyle \n",
            "Crime and Punishment by Fyodor Dostoyevsky \n",
            "Ulysses by James Joyce \n",
            "Adventures of Huckleberry Finn by Mark Twain \n",
            "The Romance of Lust\n",
            "Grimms\n",
            "The Prince by Niccol\n",
            "Florante at Laura by Francisco Balagtas \n",
            "Beyond Good and Evil by Friedrich Wilhelm Nietzsche \n",
            "The Review\n",
            "The Adventures of Tom Sawyer\n",
            "The revolt in Arabia by C\n",
            "A Modest Proposal by Jonathan Swift \n",
            "Don Quixote by Miguel de Cervantes Saavedra \n",
            "Jane Eyre\n",
            "A Christmas Carol in Prose\n",
            "The Philippines a Century Hence by Jos\n",
            "Treasure Island by Robert Louis Stevenson \n",
            "The Yellow Wallpaper by Charlotte Perkins Gilman \n",
            "The Prophet by Kahlil Gibran \n",
            "Thus Spake Zarathustra\n",
            "The Scarlet Letter by Nathaniel Hawthorne \n",
            "Three Men in a Boat \n",
            "Walden\n",
            "The Odyssey by Homer \n",
            "Anne of Green Gables by L\n",
            "Meditations by Emperor of Rome Marcus Aurelius \n",
            "Peter Pan by J\n",
            "Anna Karenina by graf Leo Tolstoy \n",
            "Calculus Made Easy by Silvanus P\n",
            "Winnie\n",
            "Moby Multiple Language Lists of Common Words by Grady Ward \n",
            "Les Mis\n",
            "Siddhartha by Hermann Hesse \n",
            "Tractatus Logico\n",
            "The divine comedy by Dante Alighieri \n",
            "The War of the Worlds by H\n",
            "Dubliners by James Joyce \n",
            "Heart of Darkness by Joseph Conrad \n",
            "Early English Meals and Manners \n",
            "The Republic by Plato \n",
            "Emma by Jane Austen \n",
            "The Wonderful Wizard of Oz by L\n",
            "Wuthering Heights by Emily Bront\n",
            "Au Sahara \n",
            "Sense and Sensibility by Jane Austen \n",
            "The Problems of Philosophy by Bertrand Russell \n",
            "The Art of War by active \n",
            "Oliver Twist by Charles Dickens \n",
            "Essays of Michel de Montaigne \n"
          ]
        }
      ]
    },
    {
      "cell_type": "markdown",
      "source": [
        "## 2. Data Wrangling with Python: Activity 10, page 295\n",
        "\n",
        "Building your own movie database by reading from an API"
      ],
      "metadata": {
        "id": "C5aMXGBo7UM_"
      }
    },
    {
      "cell_type": "code",
      "source": [
        "# importing libraries needed\n",
        "import urllib.request, urllib.parse, urllib.error\n",
        "import json"
      ],
      "metadata": {
        "id": "xLk2miqhv33P"
      },
      "execution_count": null,
      "outputs": []
    },
    {
      "cell_type": "code",
      "source": [
        "# obtaing API key from omdb.com\n",
        "# https://www.omdbapi.com/apikey\n",
        "\n",
        "# loading the secret API key, storing it as APIkeys.json, and opening the API\n",
        "with open('APIkeys.json') as f:\n",
        "    keys = json.load(f)\n",
        "    omdbapi = keys[\"OMDBapi\"]"
      ],
      "metadata": {
        "id": "t44jSoPNwA9j"
      },
      "execution_count": null,
      "outputs": []
    },
    {
      "cell_type": "code",
      "source": [
        "# assigning the omdb portal as a string variable\n",
        "omdbportal = 'http://www.omdbapi.com/?'\n",
        "# creating a variable called apikey\n",
        "apikey = '&apikey='+omdbapi"
      ],
      "metadata": {
        "id": "Yob_Nt3U6toe"
      },
      "execution_count": null,
      "outputs": []
    },
    {
      "cell_type": "code",
      "source": [
        "# creating a utility function to print the moive data from the JSON file (obtained from the API protal)\n",
        "def print_json(json_data):\n",
        "    list_keys=['Title', 'Year', 'Rated', 'Released', 'Runtime', 'Genre', 'Director', 'Writer', \n",
        "               'Actors', 'Plot', 'Language', 'Country', 'Awards', 'Ratings', \n",
        "               'Metascore', 'imdbRating', 'imdbVotes', 'imdbID']\n",
        "    print(\"-\"*50)\n",
        "    for k in list_keys:\n",
        "        if k in list(json_data.keys()):\n",
        "            print(f\"{k}: {json_data[k]}\")\n",
        "    print(\"-\"*50)"
      ],
      "metadata": {
        "id": "ex_bHMiiC2IT"
      },
      "execution_count": null,
      "outputs": []
    },
    {
      "cell_type": "code",
      "source": [
        "# creating a utility function to download a poster of the movie based on the information from the jason dataset\n",
        "def save_poster(json_data):\n",
        "    import os\n",
        "    title = json_data['Title']\n",
        "    poster_url = json_data['Poster']\n",
        "    # Splits the poster url by '.' and picks up the last string as file extension\n",
        "    poster_file_extension=poster_url.split('.')[-1]\n",
        "    # Reads the image file from web\n",
        "    poster_data = urllib.request.urlopen(poster_url).read()\n",
        "        \n",
        "    savelocation=os.getcwd()+'\\\\'+'Posters'+'\\\\'\n",
        "    # Creates new directory if the directory does not exist. Otherwise, just use the existing path.\n",
        "    if not os.path.isdir(savelocation):\n",
        "        os.mkdir(savelocation)\n",
        "    \n",
        "    filename=savelocation+str(title)+'.'+poster_file_extension\n",
        "    f=open(filename,'wb')\n",
        "    f.write(poster_data)\n",
        "    f.close()"
      ],
      "metadata": {
        "id": "WxnrJInFDRyf"
      },
      "execution_count": null,
      "outputs": []
    },
    {
      "cell_type": "code",
      "source": [
        "# creating a utility function to search a movie by its name, print the JSON data (using the print_json function) \n",
        "# and saving the movie poster in the local folder (using the save_poster function)\n",
        "def search_movie(title):\n",
        "    try:\n",
        "        url = omdbportal + urllib.parse.urlencode({'t': str(title)})+apikey\n",
        "        print(f'Retrieving the data of \"{title}\" now... ')\n",
        "        print(url)\n",
        "        uh = urllib.request.urlopen(url)\n",
        "        data = uh.read()\n",
        "        json_data=json.loads(data)\n",
        "        \n",
        "        if json_data['Response']=='True':\n",
        "            print_json(json_data)\n",
        "            # Asks user whether to download the poster of the movie\n",
        "            if json_data['Poster']!='N/A':\n",
        "                save_poster(json_data)\n",
        "        else:\n",
        "            print(\"Error encountered: \",json_data['Error'])\n",
        "    \n",
        "    except urllib.error.URLError as e:\n",
        "        print(f\"ERROR: {e.reason}\")"
      ],
      "metadata": {
        "id": "V67So0cwDiBt"
      },
      "execution_count": null,
      "outputs": []
    },
    {
      "cell_type": "code",
      "source": [
        "# testing our functions above by entering \"Titanic\"\n",
        "search_movie(\"Titanic\")"
      ],
      "metadata": {
        "colab": {
          "base_uri": "https://localhost:8080/"
        },
        "id": "waa_xOQQD77b",
        "outputId": "0791383c-29cc-44ae-aa9e-68f43b71e121"
      },
      "execution_count": null,
      "outputs": [
        {
          "output_type": "stream",
          "name": "stdout",
          "text": [
            "Retrieving the data of \"Titanic\" now... \n",
            "http://www.omdbapi.com/?t=Titanic&apikey=3d98fcd4\n",
            "--------------------------------------------------\n",
            "Title: Titanic\n",
            "Year: 1997\n",
            "Rated: PG-13\n",
            "Released: 19 Dec 1997\n",
            "Runtime: 194 min\n",
            "Genre: Drama, Romance\n",
            "Director: James Cameron\n",
            "Writer: James Cameron\n",
            "Actors: Leonardo DiCaprio, Kate Winslet, Billy Zane\n",
            "Plot: A seventeen-year-old aristocrat falls in love with a kind but poor artist aboard the luxurious, ill-fated R.M.S. Titanic.\n",
            "Language: English, Swedish, Italian, French\n",
            "Country: United States, Mexico\n",
            "Awards: Won 11 Oscars. 126 wins & 83 nominations total\n",
            "Ratings: [{'Source': 'Internet Movie Database', 'Value': '7.9/10'}, {'Source': 'Rotten Tomatoes', 'Value': '88%'}, {'Source': 'Metacritic', 'Value': '75/100'}]\n",
            "Metascore: 75\n",
            "imdbRating: 7.9\n",
            "imdbVotes: 1,215,822\n",
            "imdbID: tt0120338\n",
            "--------------------------------------------------\n"
          ]
        }
      ]
    },
    {
      "cell_type": "code",
      "source": [
        "# testing our functions above by entering \"Random_error\" to see what will happen when the movie cannot be found.\n",
        "search_movie(\"Random_error\")"
      ],
      "metadata": {
        "colab": {
          "base_uri": "https://localhost:8080/"
        },
        "id": "VrcxOTLRENts",
        "outputId": "984f564f-7ba7-4709-aba5-3995f88292bd"
      },
      "execution_count": null,
      "outputs": [
        {
          "output_type": "stream",
          "name": "stdout",
          "text": [
            "Retrieving the data of \"Random_error\" now... \n",
            "http://www.omdbapi.com/?t=Random_error&apikey=3d98fcd4\n",
            "ERROR: Unauthorized\n"
          ]
        }
      ]
    },
    {
      "cell_type": "markdown",
      "source": [
        "## 3. API\n",
        "\n",
        "Here we wil be connecting to the currency-exchange API from rapidapi to find the current extange rate from ERO to USD.\n",
        "We will connect to the API and \"Get\" call/operation on the API to return the current extange.\n",
        "\n",
        "Link to API: https://currency-exchange.p.rapidapi.com/exchange"
      ],
      "metadata": {
        "id": "29uQe7qZ7Xvt"
      }
    },
    {
      "cell_type": "code",
      "source": [
        "# importing libraries needed\n",
        "import requests\n",
        "\n",
        "url = \"https://currency-exchange.p.rapidapi.com/exchange\"\n",
        "\n",
        "querystring = {\"from\":\"ERO\",\"to\":\"USD\",\"q\":\"1.0\"}\n",
        "\n",
        "headers = {\n",
        "\t\"X-RapidAPI-Key\": \"9d0e146c26mshf2a9609c55e0254p181d7fjsn9a211d034509\",\n",
        "\t\"X-RapidAPI-Host\": \"currency-exchange.p.rapidapi.com\"\n",
        "}\n",
        "\n",
        "response = requests.get(url, headers=headers, params=querystring)\n",
        "\n",
        "# printing the current extange rate from ERO to USD\n",
        "print(response.json())\n"
      ],
      "metadata": {
        "id": "Z6iMVPIJlPUr",
        "colab": {
          "base_uri": "https://localhost:8080/"
        },
        "outputId": "131d8dba-0c1d-4e83-867a-384937dfa5b2"
      },
      "execution_count": 1,
      "outputs": [
        {
          "output_type": "stream",
          "name": "stdout",
          "text": [
            "1.08175\n"
          ]
        }
      ]
    },
    {
      "cell_type": "markdown",
      "source": [
        "## 4. Housing Dataset\n",
        "\n",
        "3 Data visualizations using the Housing Dataset from Kaggle.\n",
        "\n",
        "Link to dataset: https://www.kaggle.com/datasets/yasserh/housing-prices-dataset?resource=download\n"
      ],
      "metadata": {
        "id": "e67AXRU5oKej"
      }
    },
    {
      "cell_type": "code",
      "source": [
        "import pandas as pd\n",
        "import matplotlib.pyplot as plt\n",
        "import seaborn as sns"
      ],
      "metadata": {
        "id": "6homyGlBNmTQ"
      },
      "execution_count": null,
      "outputs": []
    },
    {
      "cell_type": "markdown",
      "source": [
        "Loading the data"
      ],
      "metadata": {
        "id": "L3Y3aiyuNNsu"
      }
    },
    {
      "cell_type": "code",
      "source": [
        "# reading the housing dataset\n",
        "df = pd.read_csv('Housing.csv')\n",
        "# checking the first 10 records\n",
        "df.head(10)"
      ],
      "metadata": {
        "colab": {
          "base_uri": "https://localhost:8080/",
          "height": 363
        },
        "id": "YRVv6q5fNP6t",
        "outputId": "465e30f5-2b08-4088-f59c-1a1e5ca67fcd"
      },
      "execution_count": null,
      "outputs": [
        {
          "output_type": "execute_result",
          "data": {
            "text/plain": [
              "      price   area  bedrooms  bathrooms  stories mainroad guestroom basement  \\\n",
              "0  13300000   7420         4          2        3      yes        no       no   \n",
              "1  12250000   8960         4          4        4      yes        no       no   \n",
              "2  12250000   9960         3          2        2      yes        no      yes   \n",
              "3  12215000   7500         4          2        2      yes        no      yes   \n",
              "4  11410000   7420         4          1        2      yes       yes      yes   \n",
              "5  10850000   7500         3          3        1      yes        no      yes   \n",
              "6  10150000   8580         4          3        4      yes        no       no   \n",
              "7  10150000  16200         5          3        2      yes        no       no   \n",
              "8   9870000   8100         4          1        2      yes       yes      yes   \n",
              "9   9800000   5750         3          2        4      yes       yes       no   \n",
              "\n",
              "  hotwaterheating airconditioning  parking prefarea furnishingstatus  \n",
              "0              no             yes        2      yes        furnished  \n",
              "1              no             yes        3       no        furnished  \n",
              "2              no              no        2      yes   semi-furnished  \n",
              "3              no             yes        3      yes        furnished  \n",
              "4              no             yes        2       no        furnished  \n",
              "5              no             yes        2      yes   semi-furnished  \n",
              "6              no             yes        2      yes   semi-furnished  \n",
              "7              no              no        0       no      unfurnished  \n",
              "8              no             yes        2      yes        furnished  \n",
              "9              no             yes        1      yes      unfurnished  "
            ],
            "text/html": [
              "\n",
              "  <div id=\"df-a17bb522-a0a7-4eb8-b615-8f6a960eef15\">\n",
              "    <div class=\"colab-df-container\">\n",
              "      <div>\n",
              "<style scoped>\n",
              "    .dataframe tbody tr th:only-of-type {\n",
              "        vertical-align: middle;\n",
              "    }\n",
              "\n",
              "    .dataframe tbody tr th {\n",
              "        vertical-align: top;\n",
              "    }\n",
              "\n",
              "    .dataframe thead th {\n",
              "        text-align: right;\n",
              "    }\n",
              "</style>\n",
              "<table border=\"1\" class=\"dataframe\">\n",
              "  <thead>\n",
              "    <tr style=\"text-align: right;\">\n",
              "      <th></th>\n",
              "      <th>price</th>\n",
              "      <th>area</th>\n",
              "      <th>bedrooms</th>\n",
              "      <th>bathrooms</th>\n",
              "      <th>stories</th>\n",
              "      <th>mainroad</th>\n",
              "      <th>guestroom</th>\n",
              "      <th>basement</th>\n",
              "      <th>hotwaterheating</th>\n",
              "      <th>airconditioning</th>\n",
              "      <th>parking</th>\n",
              "      <th>prefarea</th>\n",
              "      <th>furnishingstatus</th>\n",
              "    </tr>\n",
              "  </thead>\n",
              "  <tbody>\n",
              "    <tr>\n",
              "      <th>0</th>\n",
              "      <td>13300000</td>\n",
              "      <td>7420</td>\n",
              "      <td>4</td>\n",
              "      <td>2</td>\n",
              "      <td>3</td>\n",
              "      <td>yes</td>\n",
              "      <td>no</td>\n",
              "      <td>no</td>\n",
              "      <td>no</td>\n",
              "      <td>yes</td>\n",
              "      <td>2</td>\n",
              "      <td>yes</td>\n",
              "      <td>furnished</td>\n",
              "    </tr>\n",
              "    <tr>\n",
              "      <th>1</th>\n",
              "      <td>12250000</td>\n",
              "      <td>8960</td>\n",
              "      <td>4</td>\n",
              "      <td>4</td>\n",
              "      <td>4</td>\n",
              "      <td>yes</td>\n",
              "      <td>no</td>\n",
              "      <td>no</td>\n",
              "      <td>no</td>\n",
              "      <td>yes</td>\n",
              "      <td>3</td>\n",
              "      <td>no</td>\n",
              "      <td>furnished</td>\n",
              "    </tr>\n",
              "    <tr>\n",
              "      <th>2</th>\n",
              "      <td>12250000</td>\n",
              "      <td>9960</td>\n",
              "      <td>3</td>\n",
              "      <td>2</td>\n",
              "      <td>2</td>\n",
              "      <td>yes</td>\n",
              "      <td>no</td>\n",
              "      <td>yes</td>\n",
              "      <td>no</td>\n",
              "      <td>no</td>\n",
              "      <td>2</td>\n",
              "      <td>yes</td>\n",
              "      <td>semi-furnished</td>\n",
              "    </tr>\n",
              "    <tr>\n",
              "      <th>3</th>\n",
              "      <td>12215000</td>\n",
              "      <td>7500</td>\n",
              "      <td>4</td>\n",
              "      <td>2</td>\n",
              "      <td>2</td>\n",
              "      <td>yes</td>\n",
              "      <td>no</td>\n",
              "      <td>yes</td>\n",
              "      <td>no</td>\n",
              "      <td>yes</td>\n",
              "      <td>3</td>\n",
              "      <td>yes</td>\n",
              "      <td>furnished</td>\n",
              "    </tr>\n",
              "    <tr>\n",
              "      <th>4</th>\n",
              "      <td>11410000</td>\n",
              "      <td>7420</td>\n",
              "      <td>4</td>\n",
              "      <td>1</td>\n",
              "      <td>2</td>\n",
              "      <td>yes</td>\n",
              "      <td>yes</td>\n",
              "      <td>yes</td>\n",
              "      <td>no</td>\n",
              "      <td>yes</td>\n",
              "      <td>2</td>\n",
              "      <td>no</td>\n",
              "      <td>furnished</td>\n",
              "    </tr>\n",
              "    <tr>\n",
              "      <th>5</th>\n",
              "      <td>10850000</td>\n",
              "      <td>7500</td>\n",
              "      <td>3</td>\n",
              "      <td>3</td>\n",
              "      <td>1</td>\n",
              "      <td>yes</td>\n",
              "      <td>no</td>\n",
              "      <td>yes</td>\n",
              "      <td>no</td>\n",
              "      <td>yes</td>\n",
              "      <td>2</td>\n",
              "      <td>yes</td>\n",
              "      <td>semi-furnished</td>\n",
              "    </tr>\n",
              "    <tr>\n",
              "      <th>6</th>\n",
              "      <td>10150000</td>\n",
              "      <td>8580</td>\n",
              "      <td>4</td>\n",
              "      <td>3</td>\n",
              "      <td>4</td>\n",
              "      <td>yes</td>\n",
              "      <td>no</td>\n",
              "      <td>no</td>\n",
              "      <td>no</td>\n",
              "      <td>yes</td>\n",
              "      <td>2</td>\n",
              "      <td>yes</td>\n",
              "      <td>semi-furnished</td>\n",
              "    </tr>\n",
              "    <tr>\n",
              "      <th>7</th>\n",
              "      <td>10150000</td>\n",
              "      <td>16200</td>\n",
              "      <td>5</td>\n",
              "      <td>3</td>\n",
              "      <td>2</td>\n",
              "      <td>yes</td>\n",
              "      <td>no</td>\n",
              "      <td>no</td>\n",
              "      <td>no</td>\n",
              "      <td>no</td>\n",
              "      <td>0</td>\n",
              "      <td>no</td>\n",
              "      <td>unfurnished</td>\n",
              "    </tr>\n",
              "    <tr>\n",
              "      <th>8</th>\n",
              "      <td>9870000</td>\n",
              "      <td>8100</td>\n",
              "      <td>4</td>\n",
              "      <td>1</td>\n",
              "      <td>2</td>\n",
              "      <td>yes</td>\n",
              "      <td>yes</td>\n",
              "      <td>yes</td>\n",
              "      <td>no</td>\n",
              "      <td>yes</td>\n",
              "      <td>2</td>\n",
              "      <td>yes</td>\n",
              "      <td>furnished</td>\n",
              "    </tr>\n",
              "    <tr>\n",
              "      <th>9</th>\n",
              "      <td>9800000</td>\n",
              "      <td>5750</td>\n",
              "      <td>3</td>\n",
              "      <td>2</td>\n",
              "      <td>4</td>\n",
              "      <td>yes</td>\n",
              "      <td>yes</td>\n",
              "      <td>no</td>\n",
              "      <td>no</td>\n",
              "      <td>yes</td>\n",
              "      <td>1</td>\n",
              "      <td>yes</td>\n",
              "      <td>unfurnished</td>\n",
              "    </tr>\n",
              "  </tbody>\n",
              "</table>\n",
              "</div>\n",
              "      <button class=\"colab-df-convert\" onclick=\"convertToInteractive('df-a17bb522-a0a7-4eb8-b615-8f6a960eef15')\"\n",
              "              title=\"Convert this dataframe to an interactive table.\"\n",
              "              style=\"display:none;\">\n",
              "        \n",
              "  <svg xmlns=\"http://www.w3.org/2000/svg\" height=\"24px\"viewBox=\"0 0 24 24\"\n",
              "       width=\"24px\">\n",
              "    <path d=\"M0 0h24v24H0V0z\" fill=\"none\"/>\n",
              "    <path d=\"M18.56 5.44l.94 2.06.94-2.06 2.06-.94-2.06-.94-.94-2.06-.94 2.06-2.06.94zm-11 1L8.5 8.5l.94-2.06 2.06-.94-2.06-.94L8.5 2.5l-.94 2.06-2.06.94zm10 10l.94 2.06.94-2.06 2.06-.94-2.06-.94-.94-2.06-.94 2.06-2.06.94z\"/><path d=\"M17.41 7.96l-1.37-1.37c-.4-.4-.92-.59-1.43-.59-.52 0-1.04.2-1.43.59L10.3 9.45l-7.72 7.72c-.78.78-.78 2.05 0 2.83L4 21.41c.39.39.9.59 1.41.59.51 0 1.02-.2 1.41-.59l7.78-7.78 2.81-2.81c.8-.78.8-2.07 0-2.86zM5.41 20L4 18.59l7.72-7.72 1.47 1.35L5.41 20z\"/>\n",
              "  </svg>\n",
              "      </button>\n",
              "      \n",
              "  <style>\n",
              "    .colab-df-container {\n",
              "      display:flex;\n",
              "      flex-wrap:wrap;\n",
              "      gap: 12px;\n",
              "    }\n",
              "\n",
              "    .colab-df-convert {\n",
              "      background-color: #E8F0FE;\n",
              "      border: none;\n",
              "      border-radius: 50%;\n",
              "      cursor: pointer;\n",
              "      display: none;\n",
              "      fill: #1967D2;\n",
              "      height: 32px;\n",
              "      padding: 0 0 0 0;\n",
              "      width: 32px;\n",
              "    }\n",
              "\n",
              "    .colab-df-convert:hover {\n",
              "      background-color: #E2EBFA;\n",
              "      box-shadow: 0px 1px 2px rgba(60, 64, 67, 0.3), 0px 1px 3px 1px rgba(60, 64, 67, 0.15);\n",
              "      fill: #174EA6;\n",
              "    }\n",
              "\n",
              "    [theme=dark] .colab-df-convert {\n",
              "      background-color: #3B4455;\n",
              "      fill: #D2E3FC;\n",
              "    }\n",
              "\n",
              "    [theme=dark] .colab-df-convert:hover {\n",
              "      background-color: #434B5C;\n",
              "      box-shadow: 0px 1px 3px 1px rgba(0, 0, 0, 0.15);\n",
              "      filter: drop-shadow(0px 1px 2px rgba(0, 0, 0, 0.3));\n",
              "      fill: #FFFFFF;\n",
              "    }\n",
              "  </style>\n",
              "\n",
              "      <script>\n",
              "        const buttonEl =\n",
              "          document.querySelector('#df-a17bb522-a0a7-4eb8-b615-8f6a960eef15 button.colab-df-convert');\n",
              "        buttonEl.style.display =\n",
              "          google.colab.kernel.accessAllowed ? 'block' : 'none';\n",
              "\n",
              "        async function convertToInteractive(key) {\n",
              "          const element = document.querySelector('#df-a17bb522-a0a7-4eb8-b615-8f6a960eef15');\n",
              "          const dataTable =\n",
              "            await google.colab.kernel.invokeFunction('convertToInteractive',\n",
              "                                                     [key], {});\n",
              "          if (!dataTable) return;\n",
              "\n",
              "          const docLinkHtml = 'Like what you see? Visit the ' +\n",
              "            '<a target=\"_blank\" href=https://colab.research.google.com/notebooks/data_table.ipynb>data table notebook</a>'\n",
              "            + ' to learn more about interactive tables.';\n",
              "          element.innerHTML = '';\n",
              "          dataTable['output_type'] = 'display_data';\n",
              "          await google.colab.output.renderOutput(dataTable, element);\n",
              "          const docLink = document.createElement('div');\n",
              "          docLink.innerHTML = docLinkHtml;\n",
              "          element.appendChild(docLink);\n",
              "        }\n",
              "      </script>\n",
              "    </div>\n",
              "  </div>\n",
              "  "
            ]
          },
          "metadata": {},
          "execution_count": 46
        }
      ]
    },
    {
      "cell_type": "code",
      "source": [
        "len(df)"
      ],
      "metadata": {
        "colab": {
          "base_uri": "https://localhost:8080/"
        },
        "id": "ml-0RYvib0HG",
        "outputId": "2b6f7cc7-4580-4375-abcf-98b1cb148b8e"
      },
      "execution_count": null,
      "outputs": [
        {
          "output_type": "execute_result",
          "data": {
            "text/plain": [
              "545"
            ]
          },
          "metadata": {},
          "execution_count": 50
        }
      ]
    },
    {
      "cell_type": "markdown",
      "source": [
        "Histogram"
      ],
      "metadata": {
        "id": "j7jlHiKGMmQB"
      }
    },
    {
      "cell_type": "code",
      "source": [
        "# selecting columns for histogram\n",
        "columns = ['price']\n",
        "\n",
        "# creating the histogram\n",
        "df[columns].plot.hist(bins=10, edgecolor='black', alpha=0.5)\n",
        "plt.xlabel('Home Price')\n",
        "plt.ylabel('Frequency')\n",
        "plt.title('Histogram of Home Prices')\n",
        "\n",
        "# displaying the histogram\n",
        "plt.show()"
      ],
      "metadata": {
        "colab": {
          "base_uri": "https://localhost:8080/",
          "height": 472
        },
        "id": "YeoQ-A22MkPG",
        "outputId": "0eb7ba68-7b68-47d2-bf92-cc2a6fc3beba"
      },
      "execution_count": null,
      "outputs": [
        {
          "output_type": "display_data",
          "data": {
            "text/plain": [
              "<Figure size 640x480 with 1 Axes>"
            ],
            "image/png": "[encoded data removed]"
          },
          "metadata": {}
        }
      ]
    },
    {
      "cell_type": "markdown",
      "source": [
        "Scatter Plot"
      ],
      "metadata": {
        "id": "hkF-EVRpWlnx"
      }
    },
    {
      "cell_type": "code",
      "source": [
        "# Creating the scatter plot\n",
        "x = df['price']\n",
        "y = df['area']\n",
        "plt.scatter(x, y)\n",
        "\n",
        "# Adding labels and title\n",
        "plt.xlabel('Price')\n",
        "plt.ylabel('Square Footage')\n",
        "plt.title('Scatter Plot of Home Price and Square Footage')\n",
        "\n",
        "# Displaying the scatter plot\n",
        "plt.show()"
      ],
      "metadata": {
        "colab": {
          "base_uri": "https://localhost:8080/",
          "height": 472
        },
        "id": "qNPt9p5zWvOs",
        "outputId": "0983a7cc-fd4f-4801-bec3-81c39a37a792"
      },
      "execution_count": null,
      "outputs": [
        {
          "output_type": "display_data",
          "data": {
            "text/plain": [
              "<Figure size 640x480 with 1 Axes>"
            ],
            "image/png": "[encoded data removed]"
          },
          "metadata": {}
        }
      ]
    },
    {
      "cell_type": "markdown",
      "source": [
        "Density Plot"
      ],
      "metadata": {
        "id": "QiyenEvIcpU7"
      }
    },
    {
      "cell_type": "code",
      "source": [
        "pricedata = df['price']\n",
        "\n",
        "# Creating the density plot\n",
        "sns.kdeplot(pricedata)\n",
        "\n",
        "# Adding labels and title\n",
        "plt.xlabel('Price')\n",
        "plt.ylabel('Density')\n",
        "plt.title('Density Plot of Home Price')\n",
        "\n",
        "# Displaying the density plot\n",
        "plt.show()"
      ],
      "metadata": {
        "colab": {
          "base_uri": "https://localhost:8080/",
          "height": 472
        },
        "id": "aaUXFG7Rcn8t",
        "outputId": "b1b83af1-8a03-457f-9aba-a705c3104735"
      },
      "execution_count": null,
      "outputs": [
        {
          "output_type": "display_data",
          "data": {
            "text/plain": [
              "<Figure size 640x480 with 1 Axes>"
            ],
            "image/png": "[encoded data removed]"
          },
          "metadata": {}
        }
      ]
    }
  ],
  "metadata": {
    "kernelspec": {
      "display_name": "Python 3",
      "language": "python",
      "name": "python3"
    },
    "language_info": {
      "codemirror_mode": {
        "name": "ipython",
        "version": 3
      },
      "file_extension": ".py",
      "mimetype": "text/x-python",
      "name": "python",
      "nbconvert_exporter": "python",
      "pygments_lexer": "ipython3",
      "version": "3.7.6"
    },
    "colab": {
      "provenance": []
    }
  },
  "nbformat": 4,
  "nbformat_minor": 0
}